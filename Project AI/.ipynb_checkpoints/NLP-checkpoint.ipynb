{
 "cells": [
  {
   "cell_type": "markdown",
   "id": "83b37a93",
   "metadata": {},
   "source": [
    "# PROJECT AKHIR KECERDASAN BUATAN B1 2020 "
   ]
  },
  {
   "cell_type": "markdown",
   "id": "9dfc02eb",
   "metadata": {},
   "source": [
    "### Kelompok 2:\n",
    "\n",
    "2009106067 Mar'atus Sholeha\n",
    "\n",
    "2009106064 Krisdayanti\n",
    "\n",
    "2009106058 Rista Safitri"
   ]
  },
  {
   "cell_type": "markdown",
   "id": "ae023fff",
   "metadata": {},
   "source": [
    "### Import Library yang Dibutuhkan"
   ]
  },
  {
   "cell_type": "code",
   "execution_count": 1,
   "id": "7c6f7d5b",
   "metadata": {},
   "outputs": [],
   "source": [
    "import pandas as pd\n",
    "import numpy as np\n",
    "import seaborn as sns\n",
    "import string\n",
    "import re\n",
    "import matplotlib.pyplot as plt"
   ]
  },
  {
   "cell_type": "markdown",
   "id": "2b7615ba",
   "metadata": {},
   "source": [
    "# Data Collecting"
   ]
  },
  {
   "cell_type": "markdown",
   "id": "6fdf4fd0",
   "metadata": {},
   "source": [
    "### Import Dataset"
   ]
  },
  {
   "cell_type": "code",
   "execution_count": 2,
   "id": "cb38a619",
   "metadata": {},
   "outputs": [
    {
     "data": {
      "text/html": [
       "<div>\n",
       "<style scoped>\n",
       "    .dataframe tbody tr th:only-of-type {\n",
       "        vertical-align: middle;\n",
       "    }\n",
       "\n",
       "    .dataframe tbody tr th {\n",
       "        vertical-align: top;\n",
       "    }\n",
       "\n",
       "    .dataframe thead th {\n",
       "        text-align: right;\n",
       "    }\n",
       "</style>\n",
       "<table border=\"1\" class=\"dataframe\">\n",
       "  <thead>\n",
       "    <tr style=\"text-align: right;\">\n",
       "      <th></th>\n",
       "      <th>Video Name</th>\n",
       "      <th>Channel Name</th>\n",
       "      <th>Comment Id</th>\n",
       "      <th>User Name</th>\n",
       "      <th>Comment</th>\n",
       "      <th>Date</th>\n",
       "      <th>Likes</th>\n",
       "      <th>Category Comment</th>\n",
       "    </tr>\n",
       "  </thead>\n",
       "  <tbody>\n",
       "    <tr>\n",
       "      <th>0</th>\n",
       "      <td>Luis Fonsi - Despacito ft. Daddy Yankee</td>\n",
       "      <td>LuisFonsiVEVO</td>\n",
       "      <td>UgwV0tapZzaFxdYm1z14AaABAg</td>\n",
       "      <td>GAMIT yuvraj</td>\n",
       "      <td>The people who liked this comment is officiall...</td>\n",
       "      <td>2020-08-10T20:00:43Z</td>\n",
       "      <td>98280</td>\n",
       "      <td>neutral</td>\n",
       "    </tr>\n",
       "    <tr>\n",
       "      <th>1</th>\n",
       "      <td>Luis Fonsi - Despacito ft. Daddy Yankee</td>\n",
       "      <td>LuisFonsiVEVO</td>\n",
       "      <td>UgzXUsI6yrRjTKNASf94AaABAg</td>\n",
       "      <td>Srivathsa D</td>\n",
       "      <td>Let's be honest this wasn't your recommendatio...</td>\n",
       "      <td>2020-09-09T03:41:34Z</td>\n",
       "      <td>13</td>\n",
       "      <td>neutral</td>\n",
       "    </tr>\n",
       "    <tr>\n",
       "      <th>2</th>\n",
       "      <td>Luis Fonsi - Despacito ft. Daddy Yankee</td>\n",
       "      <td>LuisFonsiVEVO</td>\n",
       "      <td>UgzryH8U6Dz_yBmIgEZ4AaABAg</td>\n",
       "      <td>LR ICED WOLF</td>\n",
       "      <td>3.2 Million comments if you find mine your a l...</td>\n",
       "      <td>2020-03-15T21:11:08Z</td>\n",
       "      <td>370547</td>\n",
       "      <td>positive</td>\n",
       "    </tr>\n",
       "    <tr>\n",
       "      <th>3</th>\n",
       "      <td>Luis Fonsi - Despacito ft. Daddy Yankee</td>\n",
       "      <td>LuisFonsiVEVO</td>\n",
       "      <td>Ugw61yKNdyVJ5T4R_sN4AaABAg</td>\n",
       "      <td>MemeDille</td>\n",
       "      <td>The ones who are NOT from Tik-Tok can like thi...</td>\n",
       "      <td>2020-09-08T08:44:47Z</td>\n",
       "      <td>94</td>\n",
       "      <td>negative</td>\n",
       "    </tr>\n",
       "    <tr>\n",
       "      <th>4</th>\n",
       "      <td>Luis Fonsi - Despacito ft. Daddy Yankee</td>\n",
       "      <td>LuisFonsiVEVO</td>\n",
       "      <td>UgxcqxyEw2jU7KvhofV4AaABAg</td>\n",
       "      <td>cruisendude</td>\n",
       "      <td>The first viewer must feel like the king of th...</td>\n",
       "      <td>2020-08-21T23:15:01Z</td>\n",
       "      <td>36446</td>\n",
       "      <td>positive</td>\n",
       "    </tr>\n",
       "    <tr>\n",
       "      <th>...</th>\n",
       "      <td>...</td>\n",
       "      <td>...</td>\n",
       "      <td>...</td>\n",
       "      <td>...</td>\n",
       "      <td>...</td>\n",
       "      <td>...</td>\n",
       "      <td>...</td>\n",
       "      <td>...</td>\n",
       "    </tr>\n",
       "    <tr>\n",
       "      <th>1494</th>\n",
       "      <td>Chris Brown - Loyal (Official Video) ft. Lil W...</td>\n",
       "      <td>ChrisBrownVEVO</td>\n",
       "      <td>Ugx0v_kwt_OjHumTf314AaABAg</td>\n",
       "      <td>TheNastyMan 420</td>\n",
       "      <td>Good job chris on the 1 bil. I knew this song ...</td>\n",
       "      <td>2020-09-06T02:21:45Z</td>\n",
       "      <td>7</td>\n",
       "      <td>positive</td>\n",
       "    </tr>\n",
       "    <tr>\n",
       "      <th>1495</th>\n",
       "      <td>Chris Brown - Loyal (Official Video) ft. Lil W...</td>\n",
       "      <td>ChrisBrownVEVO</td>\n",
       "      <td>UgzmGOdpkEGRQmGDoyd4AaABAg</td>\n",
       "      <td>Yuvraj Sahota</td>\n",
       "      <td>Lets see whos here from september to december ...</td>\n",
       "      <td>2020-09-03T22:12:07Z</td>\n",
       "      <td>2</td>\n",
       "      <td>positive</td>\n",
       "    </tr>\n",
       "    <tr>\n",
       "      <th>1496</th>\n",
       "      <td>Chris Brown - Loyal (Official Video) ft. Lil W...</td>\n",
       "      <td>ChrisBrownVEVO</td>\n",
       "      <td>UgyZwUKM_fkKAA2S9IZ4AaABAg</td>\n",
       "      <td>Rod Reactz</td>\n",
       "      <td>1 billion views this song is so underrated</td>\n",
       "      <td>2020-09-08T15:14:08Z</td>\n",
       "      <td>1</td>\n",
       "      <td>neutral</td>\n",
       "    </tr>\n",
       "    <tr>\n",
       "      <th>1497</th>\n",
       "      <td>Chris Brown - Loyal (Official Video) ft. Lil W...</td>\n",
       "      <td>ChrisBrownVEVO</td>\n",
       "      <td>UgyOHVIZqvR3WfqErRJ4AaABAg</td>\n",
       "      <td>Zawad Hossain</td>\n",
       "      <td>As soon as this hits 1 Billi, everyone go to C...</td>\n",
       "      <td>2020-08-25T17:31:20Z</td>\n",
       "      <td>208</td>\n",
       "      <td>positive</td>\n",
       "    </tr>\n",
       "    <tr>\n",
       "      <th>1498</th>\n",
       "      <td>Chris Brown - Loyal (Official Video) ft. Lil W...</td>\n",
       "      <td>ChrisBrownVEVO</td>\n",
       "      <td>UgzhI2cDcIJfqichEZB4AaABAg</td>\n",
       "      <td>Margaret Nyaga</td>\n",
       "      <td>The best second to Michael Jackson you deserve...</td>\n",
       "      <td>2020-08-22T18:35:13Z</td>\n",
       "      <td>3378</td>\n",
       "      <td>positive</td>\n",
       "    </tr>\n",
       "  </tbody>\n",
       "</table>\n",
       "<p>1499 rows × 8 columns</p>\n",
       "</div>"
      ],
      "text/plain": [
       "                                             Video Name    Channel Name  \\\n",
       "0               Luis Fonsi - Despacito ft. Daddy Yankee   LuisFonsiVEVO   \n",
       "1               Luis Fonsi - Despacito ft. Daddy Yankee   LuisFonsiVEVO   \n",
       "2               Luis Fonsi - Despacito ft. Daddy Yankee   LuisFonsiVEVO   \n",
       "3               Luis Fonsi - Despacito ft. Daddy Yankee   LuisFonsiVEVO   \n",
       "4               Luis Fonsi - Despacito ft. Daddy Yankee   LuisFonsiVEVO   \n",
       "...                                                 ...             ...   \n",
       "1494  Chris Brown - Loyal (Official Video) ft. Lil W...  ChrisBrownVEVO   \n",
       "1495  Chris Brown - Loyal (Official Video) ft. Lil W...  ChrisBrownVEVO   \n",
       "1496  Chris Brown - Loyal (Official Video) ft. Lil W...  ChrisBrownVEVO   \n",
       "1497  Chris Brown - Loyal (Official Video) ft. Lil W...  ChrisBrownVEVO   \n",
       "1498  Chris Brown - Loyal (Official Video) ft. Lil W...  ChrisBrownVEVO   \n",
       "\n",
       "                      Comment Id        User Name  \\\n",
       "0     UgwV0tapZzaFxdYm1z14AaABAg     GAMIT yuvraj   \n",
       "1     UgzXUsI6yrRjTKNASf94AaABAg      Srivathsa D   \n",
       "2     UgzryH8U6Dz_yBmIgEZ4AaABAg     LR ICED WOLF   \n",
       "3     Ugw61yKNdyVJ5T4R_sN4AaABAg        MemeDille   \n",
       "4     UgxcqxyEw2jU7KvhofV4AaABAg      cruisendude   \n",
       "...                          ...              ...   \n",
       "1494  Ugx0v_kwt_OjHumTf314AaABAg  TheNastyMan 420   \n",
       "1495  UgzmGOdpkEGRQmGDoyd4AaABAg    Yuvraj Sahota   \n",
       "1496  UgyZwUKM_fkKAA2S9IZ4AaABAg       Rod Reactz   \n",
       "1497  UgyOHVIZqvR3WfqErRJ4AaABAg    Zawad Hossain   \n",
       "1498  UgzhI2cDcIJfqichEZB4AaABAg   Margaret Nyaga   \n",
       "\n",
       "                                                Comment                  Date  \\\n",
       "0     The people who liked this comment is officiall...  2020-08-10T20:00:43Z   \n",
       "1     Let's be honest this wasn't your recommendatio...  2020-09-09T03:41:34Z   \n",
       "2     3.2 Million comments if you find mine your a l...  2020-03-15T21:11:08Z   \n",
       "3     The ones who are NOT from Tik-Tok can like thi...  2020-09-08T08:44:47Z   \n",
       "4     The first viewer must feel like the king of th...  2020-08-21T23:15:01Z   \n",
       "...                                                 ...                   ...   \n",
       "1494  Good job chris on the 1 bil. I knew this song ...  2020-09-06T02:21:45Z   \n",
       "1495  Lets see whos here from september to december ...  2020-09-03T22:12:07Z   \n",
       "1496         1 billion views this song is so underrated  2020-09-08T15:14:08Z   \n",
       "1497  As soon as this hits 1 Billi, everyone go to C...  2020-08-25T17:31:20Z   \n",
       "1498  The best second to Michael Jackson you deserve...  2020-08-22T18:35:13Z   \n",
       "\n",
       "       Likes Category Comment  \n",
       "0      98280          neutral  \n",
       "1         13          neutral  \n",
       "2     370547         positive  \n",
       "3         94         negative  \n",
       "4      36446         positive  \n",
       "...      ...              ...  \n",
       "1494       7         positive  \n",
       "1495       2         positive  \n",
       "1496       1          neutral  \n",
       "1497     208         positive  \n",
       "1498    3378         positive  \n",
       "\n",
       "[1499 rows x 8 columns]"
      ]
     },
     "execution_count": 2,
     "metadata": {},
     "output_type": "execute_result"
    }
   ],
   "source": [
    "dataset = pd.read_csv(\"dataset_youtube.csv\")\n",
    "dataset"
   ]
  },
  {
   "cell_type": "markdown",
   "id": "ad167fd4",
   "metadata": {},
   "source": [
    "# PREPROCCESING"
   ]
  },
  {
   "cell_type": "markdown",
   "id": "3c0f744c",
   "metadata": {},
   "source": [
    "### Menampilkan dataset berdasarkan kolom comment & category comment"
   ]
  },
  {
   "cell_type": "code",
   "execution_count": 3,
   "id": "c1fc1a54",
   "metadata": {},
   "outputs": [
    {
     "data": {
      "text/html": [
       "<div>\n",
       "<style scoped>\n",
       "    .dataframe tbody tr th:only-of-type {\n",
       "        vertical-align: middle;\n",
       "    }\n",
       "\n",
       "    .dataframe tbody tr th {\n",
       "        vertical-align: top;\n",
       "    }\n",
       "\n",
       "    .dataframe thead th {\n",
       "        text-align: right;\n",
       "    }\n",
       "</style>\n",
       "<table border=\"1\" class=\"dataframe\">\n",
       "  <thead>\n",
       "    <tr style=\"text-align: right;\">\n",
       "      <th></th>\n",
       "      <th>Comment</th>\n",
       "      <th>Category Comment</th>\n",
       "    </tr>\n",
       "  </thead>\n",
       "  <tbody>\n",
       "    <tr>\n",
       "      <th>0</th>\n",
       "      <td>The people who liked this comment is officiall...</td>\n",
       "      <td>neutral</td>\n",
       "    </tr>\n",
       "    <tr>\n",
       "      <th>1</th>\n",
       "      <td>Let's be honest this wasn't your recommendatio...</td>\n",
       "      <td>neutral</td>\n",
       "    </tr>\n",
       "    <tr>\n",
       "      <th>2</th>\n",
       "      <td>3.2 Million comments if you find mine your a l...</td>\n",
       "      <td>positive</td>\n",
       "    </tr>\n",
       "    <tr>\n",
       "      <th>3</th>\n",
       "      <td>The ones who are NOT from Tik-Tok can like thi...</td>\n",
       "      <td>negative</td>\n",
       "    </tr>\n",
       "    <tr>\n",
       "      <th>4</th>\n",
       "      <td>The first viewer must feel like the king of th...</td>\n",
       "      <td>positive</td>\n",
       "    </tr>\n",
       "    <tr>\n",
       "      <th>...</th>\n",
       "      <td>...</td>\n",
       "      <td>...</td>\n",
       "    </tr>\n",
       "    <tr>\n",
       "      <th>1494</th>\n",
       "      <td>Good job chris on the 1 bil. I knew this song ...</td>\n",
       "      <td>positive</td>\n",
       "    </tr>\n",
       "    <tr>\n",
       "      <th>1495</th>\n",
       "      <td>Lets see whos here from september to december ...</td>\n",
       "      <td>positive</td>\n",
       "    </tr>\n",
       "    <tr>\n",
       "      <th>1496</th>\n",
       "      <td>1 billion views this song is so underrated</td>\n",
       "      <td>neutral</td>\n",
       "    </tr>\n",
       "    <tr>\n",
       "      <th>1497</th>\n",
       "      <td>As soon as this hits 1 Billi, everyone go to C...</td>\n",
       "      <td>positive</td>\n",
       "    </tr>\n",
       "    <tr>\n",
       "      <th>1498</th>\n",
       "      <td>The best second to Michael Jackson you deserve...</td>\n",
       "      <td>positive</td>\n",
       "    </tr>\n",
       "  </tbody>\n",
       "</table>\n",
       "<p>1499 rows × 2 columns</p>\n",
       "</div>"
      ],
      "text/plain": [
       "                                                Comment Category Comment\n",
       "0     The people who liked this comment is officiall...          neutral\n",
       "1     Let's be honest this wasn't your recommendatio...          neutral\n",
       "2     3.2 Million comments if you find mine your a l...         positive\n",
       "3     The ones who are NOT from Tik-Tok can like thi...         negative\n",
       "4     The first viewer must feel like the king of th...         positive\n",
       "...                                                 ...              ...\n",
       "1494  Good job chris on the 1 bil. I knew this song ...         positive\n",
       "1495  Lets see whos here from september to december ...         positive\n",
       "1496         1 billion views this song is so underrated          neutral\n",
       "1497  As soon as this hits 1 Billi, everyone go to C...         positive\n",
       "1498  The best second to Michael Jackson you deserve...         positive\n",
       "\n",
       "[1499 rows x 2 columns]"
      ]
     },
     "execution_count": 3,
     "metadata": {},
     "output_type": "execute_result"
    }
   ],
   "source": [
    "dataset = pd.DataFrame(dataset[['Comment','Category Comment']])\n",
    "dataset"
   ]
  },
  {
   "cell_type": "markdown",
   "id": "9a890f69",
   "metadata": {},
   "source": [
    "### Menghapus beberapa karakter yang ada di dalam comment"
   ]
  },
  {
   "cell_type": "code",
   "execution_count": 4,
   "id": "79f1e488",
   "metadata": {},
   "outputs": [
    {
     "name": "stderr",
     "output_type": "stream",
     "text": [
      "C:\\Users\\USER\\AppData\\Local\\Temp\\ipykernel_9104\\1461539364.py:1: FutureWarning: The default value of regex will change from True to False in a future version.\n",
      "  dataset['Comment'] = dataset['Comment'].str.replace('(@\\w+.*?)',\"\")\n",
      "C:\\Users\\USER\\AppData\\Local\\Temp\\ipykernel_9104\\1461539364.py:2: FutureWarning: The default value of regex will change from True to False in a future version.\n",
      "  dataset['Comment'] = dataset['Comment'].str.replace('(#\\w+.*?)',\"\")\n",
      "C:\\Users\\USER\\AppData\\Local\\Temp\\ipykernel_9104\\1461539364.py:3: FutureWarning: The default value of regex will change from True to False in a future version.\n",
      "  dataset['Comment'] = dataset['Comment'].str.replace('(&\\w+.*?)',\"\")\n",
      "C:\\Users\\USER\\AppData\\Local\\Temp\\ipykernel_9104\\1461539364.py:4: FutureWarning: The default value of regex will change from True to False in a future version.\n",
      "  dataset['Comment'] = dataset['Comment'].str.replace('http[s]?://(?:[a-zA-Z]|[0-9]|[$-_@.&+]|[!*\\(\\),]|(?:%[0-9a-fA-F][0-9a-fA-F]))+', ' ')\n",
      "C:\\Users\\USER\\AppData\\Local\\Temp\\ipykernel_9104\\1461539364.py:5: FutureWarning: The default value of regex will change from True to False in a future version.\n",
      "  dataset['Comment'] = dataset['Comment'].str.replace(r\"[\\\"\\'\\|\\?\\=\\.\\@\\#\\*\\,]\", '')\n",
      "C:\\Users\\USER\\AppData\\Local\\Temp\\ipykernel_9104\\1461539364.py:6: FutureWarning: The default value of regex will change from True to False in a future version.\n",
      "  dataset['Comment'] = dataset['Comment'].str.replace(r\"[0-9]\", '')\n",
      "C:\\Users\\USER\\AppData\\Local\\Temp\\ipykernel_9104\\1461539364.py:9: FutureWarning: The default value of regex will change from True to False in a future version.\n",
      "  dataset['Comment'] = dataset['Comment'].str.replace(r\"[\\,\\+\\_\\-\\:\\!\\%\\;\\/\\\\]\", ' ')\n"
     ]
    }
   ],
   "source": [
    "dataset['Comment'] = dataset['Comment'].str.replace('(@\\w+.*?)',\"\")\n",
    "dataset['Comment'] = dataset['Comment'].str.replace('(#\\w+.*?)',\"\")\n",
    "dataset['Comment'] = dataset['Comment'].str.replace('(&\\w+.*?)',\"\")\n",
    "dataset['Comment'] = dataset['Comment'].str.replace('http[s]?://(?:[a-zA-Z]|[0-9]|[$-_@.&+]|[!*\\(\\),]|(?:%[0-9a-fA-F][0-9a-fA-F]))+', ' ')\n",
    "dataset['Comment'] = dataset['Comment'].str.replace(r\"[\\\"\\'\\|\\?\\=\\.\\@\\#\\*\\,]\", '')\n",
    "dataset['Comment'] = dataset['Comment'].str.replace(r\"[0-9]\", '')\n",
    "dataset['Comment'] = dataset['Comment'].str.replace(r'  ', ' ')\n",
    "dataset['Comment'] = dataset['Comment'].str.replace(r'   ', ' ')\n",
    "dataset['Comment'] = dataset['Comment'].str.replace(r\"[\\,\\+\\_\\-\\:\\!\\%\\;\\/\\\\]\", ' ')"
   ]
  },
  {
   "cell_type": "markdown",
   "id": "8e177434",
   "metadata": {},
   "source": [
    "### Menghapus single character"
   ]
  },
  {
   "cell_type": "code",
   "execution_count": 5,
   "id": "32379548",
   "metadata": {},
   "outputs": [],
   "source": [
    "def remove_singl_char(teks):\n",
    "    return re.sub(r\"\\b[a-zA-Z]\\b\", \"\", teks)\n",
    "\n",
    "dataset['Comment'] = dataset['Comment'].apply(remove_singl_char)"
   ]
  },
  {
   "cell_type": "markdown",
   "id": "43ab3bfe",
   "metadata": {},
   "source": [
    "### Menghapus indentasi (:) pada kolom Comment di dataset"
   ]
  },
  {
   "cell_type": "code",
   "execution_count": 6,
   "id": "eb3a54a4",
   "metadata": {},
   "outputs": [],
   "source": [
    "def remove_whitespace_LT(teks):\n",
    "    return teks.strip()\n",
    "\n",
    "dataset['Comment'] = dataset['Comment'].apply(remove_whitespace_LT)"
   ]
  },
  {
   "cell_type": "markdown",
   "id": "48f5b032",
   "metadata": {},
   "source": [
    "### Menghapus spasi double"
   ]
  },
  {
   "cell_type": "code",
   "execution_count": 11,
   "id": "b15884c6",
   "metadata": {},
   "outputs": [],
   "source": [
    "def remove_whitespace_multiple(teks):\n",
    "    return re.sub('\\s+',' ',teks)\n",
    "\n",
    "dataset['Comment'] = dataset['Comment'].apply(remove_whitespace_multiple)"
   ]
  },
  {
   "cell_type": "markdown",
   "id": "b87a5400",
   "metadata": {},
   "source": [
    "### Menghapus tanda baca pada kolom Comment dataset"
   ]
  },
  {
   "cell_type": "code",
   "execution_count": 12,
   "id": "88fa8b11",
   "metadata": {},
   "outputs": [],
   "source": [
    "def remove_punctuation(teks):\n",
    "    return teks.translate(str.maketrans(\"\",\"\",string.punctuation))\n",
    "\n",
    "dataset['Comment'] = dataset['Comment'].apply(remove_punctuation)"
   ]
  },
  {
   "cell_type": "markdown",
   "id": "ade0b0be",
   "metadata": {},
   "source": [
    "### Mengubah semua guruf menjadi huruf kecil"
   ]
  },
  {
   "cell_type": "code",
   "execution_count": 13,
   "id": "9c6bb4ad",
   "metadata": {},
   "outputs": [
    {
     "data": {
      "text/html": [
       "<div>\n",
       "<style scoped>\n",
       "    .dataframe tbody tr th:only-of-type {\n",
       "        vertical-align: middle;\n",
       "    }\n",
       "\n",
       "    .dataframe tbody tr th {\n",
       "        vertical-align: top;\n",
       "    }\n",
       "\n",
       "    .dataframe thead th {\n",
       "        text-align: right;\n",
       "    }\n",
       "</style>\n",
       "<table border=\"1\" class=\"dataframe\">\n",
       "  <thead>\n",
       "    <tr style=\"text-align: right;\">\n",
       "      <th></th>\n",
       "      <th>Comment</th>\n",
       "      <th>Category Comment</th>\n",
       "    </tr>\n",
       "  </thead>\n",
       "  <tbody>\n",
       "    <tr>\n",
       "      <th>0</th>\n",
       "      <td>the people who liked this comment is officiall...</td>\n",
       "      <td>neutral</td>\n",
       "    </tr>\n",
       "    <tr>\n",
       "      <th>1</th>\n",
       "      <td>lets be honest this wasnt your recommendation ...</td>\n",
       "      <td>neutral</td>\n",
       "    </tr>\n",
       "    <tr>\n",
       "      <th>2</th>\n",
       "      <td>million comments if you find mine your legend</td>\n",
       "      <td>positive</td>\n",
       "    </tr>\n",
       "    <tr>\n",
       "      <th>3</th>\n",
       "      <td>the ones who are not from tik tok can like thi...</td>\n",
       "      <td>negative</td>\n",
       "    </tr>\n",
       "    <tr>\n",
       "      <th>4</th>\n",
       "      <td>the first viewer must feel like the king of th...</td>\n",
       "      <td>positive</td>\n",
       "    </tr>\n",
       "    <tr>\n",
       "      <th>...</th>\n",
       "      <td>...</td>\n",
       "      <td>...</td>\n",
       "    </tr>\n",
       "    <tr>\n",
       "      <th>1494</th>\n",
       "      <td>good job chris on the bil knew this song would...</td>\n",
       "      <td>positive</td>\n",
       "    </tr>\n",
       "    <tr>\n",
       "      <th>1495</th>\n",
       "      <td>lets see whos here from september to december</td>\n",
       "      <td>positive</td>\n",
       "    </tr>\n",
       "    <tr>\n",
       "      <th>1496</th>\n",
       "      <td>billion views this song is so underrated</td>\n",
       "      <td>neutral</td>\n",
       "    </tr>\n",
       "    <tr>\n",
       "      <th>1497</th>\n",
       "      <td>as soon as this hits billi everyone go to chri...</td>\n",
       "      <td>positive</td>\n",
       "    </tr>\n",
       "    <tr>\n",
       "      <th>1498</th>\n",
       "      <td>the best second to michael jackson you deserve...</td>\n",
       "      <td>positive</td>\n",
       "    </tr>\n",
       "  </tbody>\n",
       "</table>\n",
       "<p>1499 rows × 2 columns</p>\n",
       "</div>"
      ],
      "text/plain": [
       "                                                Comment Category Comment\n",
       "0     the people who liked this comment is officiall...          neutral\n",
       "1     lets be honest this wasnt your recommendation ...          neutral\n",
       "2         million comments if you find mine your legend         positive\n",
       "3     the ones who are not from tik tok can like thi...         negative\n",
       "4     the first viewer must feel like the king of th...         positive\n",
       "...                                                 ...              ...\n",
       "1494  good job chris on the bil knew this song would...         positive\n",
       "1495      lets see whos here from september to december         positive\n",
       "1496           billion views this song is so underrated          neutral\n",
       "1497  as soon as this hits billi everyone go to chri...         positive\n",
       "1498  the best second to michael jackson you deserve...         positive\n",
       "\n",
       "[1499 rows x 2 columns]"
      ]
     },
     "execution_count": 13,
     "metadata": {},
     "output_type": "execute_result"
    }
   ],
   "source": [
    "dataset['Comment'] = dataset['Comment'].str.lower()\n",
    "dataset"
   ]
  },
  {
   "cell_type": "markdown",
   "id": "851030b3",
   "metadata": {},
   "source": [
    "### Menghapus Comment yang mengandung akhiran titik 3 (contoh: lol...)"
   ]
  },
  {
   "cell_type": "code",
   "execution_count": 14,
   "id": "51fb23de",
   "metadata": {},
   "outputs": [],
   "source": [
    "dataset_titik_ilang=[]\n",
    "for i in dataset.index:\n",
    "  #re.sub(\"[A-Za-z0-9]+\\.{3}\", \"\", df['text'][i])\n",
    "  dataset_titik_ilang.append(re.sub(\"[A-Za-z0-9]+\\*\", \"\", dataset['Comment'][i]))\n",
    "\n",
    "dataset['Comment'] = pd.DataFrame(dataset_titik_ilang)"
   ]
  },
  {
   "cell_type": "markdown",
   "id": "f661e989",
   "metadata": {},
   "source": [
    "### Melihat dataset seletah proses menghapus @.. dan hashtag, menghapus url, link, dan karakter spesial"
   ]
  },
  {
   "cell_type": "code",
   "execution_count": 15,
   "id": "95d159d6",
   "metadata": {},
   "outputs": [
    {
     "data": {
      "text/html": [
       "<div>\n",
       "<style scoped>\n",
       "    .dataframe tbody tr th:only-of-type {\n",
       "        vertical-align: middle;\n",
       "    }\n",
       "\n",
       "    .dataframe tbody tr th {\n",
       "        vertical-align: top;\n",
       "    }\n",
       "\n",
       "    .dataframe thead th {\n",
       "        text-align: right;\n",
       "    }\n",
       "</style>\n",
       "<table border=\"1\" class=\"dataframe\">\n",
       "  <thead>\n",
       "    <tr style=\"text-align: right;\">\n",
       "      <th></th>\n",
       "      <th>Comment</th>\n",
       "      <th>Category Comment</th>\n",
       "    </tr>\n",
       "  </thead>\n",
       "  <tbody>\n",
       "    <tr>\n",
       "      <th>0</th>\n",
       "      <td>the people who liked this comment is officiall...</td>\n",
       "      <td>neutral</td>\n",
       "    </tr>\n",
       "    <tr>\n",
       "      <th>1</th>\n",
       "      <td>lets be honest this wasnt your recommendation ...</td>\n",
       "      <td>neutral</td>\n",
       "    </tr>\n",
       "    <tr>\n",
       "      <th>2</th>\n",
       "      <td>million comments if you find mine your legend</td>\n",
       "      <td>positive</td>\n",
       "    </tr>\n",
       "    <tr>\n",
       "      <th>3</th>\n",
       "      <td>the ones who are not from tik tok can like thi...</td>\n",
       "      <td>negative</td>\n",
       "    </tr>\n",
       "    <tr>\n",
       "      <th>4</th>\n",
       "      <td>the first viewer must feel like the king of th...</td>\n",
       "      <td>positive</td>\n",
       "    </tr>\n",
       "    <tr>\n",
       "      <th>...</th>\n",
       "      <td>...</td>\n",
       "      <td>...</td>\n",
       "    </tr>\n",
       "    <tr>\n",
       "      <th>1494</th>\n",
       "      <td>good job chris on the bil knew this song would...</td>\n",
       "      <td>positive</td>\n",
       "    </tr>\n",
       "    <tr>\n",
       "      <th>1495</th>\n",
       "      <td>lets see whos here from september to december</td>\n",
       "      <td>positive</td>\n",
       "    </tr>\n",
       "    <tr>\n",
       "      <th>1496</th>\n",
       "      <td>billion views this song is so underrated</td>\n",
       "      <td>neutral</td>\n",
       "    </tr>\n",
       "    <tr>\n",
       "      <th>1497</th>\n",
       "      <td>as soon as this hits billi everyone go to chri...</td>\n",
       "      <td>positive</td>\n",
       "    </tr>\n",
       "    <tr>\n",
       "      <th>1498</th>\n",
       "      <td>the best second to michael jackson you deserve...</td>\n",
       "      <td>positive</td>\n",
       "    </tr>\n",
       "  </tbody>\n",
       "</table>\n",
       "<p>1499 rows × 2 columns</p>\n",
       "</div>"
      ],
      "text/plain": [
       "                                                Comment Category Comment\n",
       "0     the people who liked this comment is officiall...          neutral\n",
       "1     lets be honest this wasnt your recommendation ...          neutral\n",
       "2         million comments if you find mine your legend         positive\n",
       "3     the ones who are not from tik tok can like thi...         negative\n",
       "4     the first viewer must feel like the king of th...         positive\n",
       "...                                                 ...              ...\n",
       "1494  good job chris on the bil knew this song would...         positive\n",
       "1495      lets see whos here from september to december         positive\n",
       "1496           billion views this song is so underrated          neutral\n",
       "1497  as soon as this hits billi everyone go to chri...         positive\n",
       "1498  the best second to michael jackson you deserve...         positive\n",
       "\n",
       "[1499 rows x 2 columns]"
      ]
     },
     "execution_count": 15,
     "metadata": {},
     "output_type": "execute_result"
    }
   ],
   "source": [
    "dataset"
   ]
  },
  {
   "cell_type": "markdown",
   "id": "ef5e3e1f",
   "metadata": {},
   "source": [
    "### Mengecek apakah di dalam dataset terdapat kolom yang bernilai null"
   ]
  },
  {
   "cell_type": "code",
   "execution_count": 16,
   "id": "90f45b55",
   "metadata": {},
   "outputs": [
    {
     "data": {
      "text/plain": [
       "Comment             0\n",
       "Category Comment    0\n",
       "dtype: int64"
      ]
     },
     "execution_count": 16,
     "metadata": {},
     "output_type": "execute_result"
    }
   ],
   "source": [
    "dataset.isna().sum()"
   ]
  },
  {
   "cell_type": "markdown",
   "id": "50b8c974",
   "metadata": {},
   "source": [
    "### Mengecek apakah di dalam dataset terdapat data duplikat (terdapat 2 data yang sama)"
   ]
  },
  {
   "cell_type": "code",
   "execution_count": 17,
   "id": "d26cef69",
   "metadata": {},
   "outputs": [
    {
     "data": {
      "text/plain": [
       "216"
      ]
     },
     "execution_count": 17,
     "metadata": {},
     "output_type": "execute_result"
    }
   ],
   "source": [
    "dataset.Comment.duplicated().sum()"
   ]
  },
  {
   "cell_type": "markdown",
   "id": "6abd821f",
   "metadata": {},
   "source": [
    "### Menampilkan  data dari dataset yang nilainya sama (merupakan duplikasi)"
   ]
  },
  {
   "cell_type": "code",
   "execution_count": 18,
   "id": "a647cb2b",
   "metadata": {},
   "outputs": [
    {
     "data": {
      "text/html": [
       "<div>\n",
       "<style scoped>\n",
       "    .dataframe tbody tr th:only-of-type {\n",
       "        vertical-align: middle;\n",
       "    }\n",
       "\n",
       "    .dataframe tbody tr th {\n",
       "        vertical-align: top;\n",
       "    }\n",
       "\n",
       "    .dataframe thead th {\n",
       "        text-align: right;\n",
       "    }\n",
       "</style>\n",
       "<table border=\"1\" class=\"dataframe\">\n",
       "  <thead>\n",
       "    <tr style=\"text-align: right;\">\n",
       "      <th></th>\n",
       "      <th>Comment</th>\n",
       "      <th>Category Comment</th>\n",
       "    </tr>\n",
       "  </thead>\n",
       "  <tbody>\n",
       "    <tr>\n",
       "      <th>10</th>\n",
       "      <td>the people who liked this comment is officiall...</td>\n",
       "      <td>neutral</td>\n",
       "    </tr>\n",
       "    <tr>\n",
       "      <th>13</th>\n",
       "      <td>the people who liked this comment is officiall...</td>\n",
       "      <td>neutral</td>\n",
       "    </tr>\n",
       "    <tr>\n",
       "      <th>14</th>\n",
       "      <td>the people who liked this comment is officiall...</td>\n",
       "      <td>neutral</td>\n",
       "    </tr>\n",
       "    <tr>\n",
       "      <th>15</th>\n",
       "      <td>the people who liked this comment is officiall...</td>\n",
       "      <td>neutral</td>\n",
       "    </tr>\n",
       "    <tr>\n",
       "      <th>27</th>\n",
       "      <td>the people who liked this comment is officiall...</td>\n",
       "      <td>neutral</td>\n",
       "    </tr>\n",
       "    <tr>\n",
       "      <th>...</th>\n",
       "      <td>...</td>\n",
       "      <td>...</td>\n",
       "    </tr>\n",
       "    <tr>\n",
       "      <th>1451</th>\n",
       "      <td>im surprised nintendo hasnt striked drake for ...</td>\n",
       "      <td>neutral</td>\n",
       "    </tr>\n",
       "    <tr>\n",
       "      <th>1452</th>\n",
       "      <td>listening to this to remember the old days whe...</td>\n",
       "      <td>positive</td>\n",
       "    </tr>\n",
       "    <tr>\n",
       "      <th>1453</th>\n",
       "      <td>drake is the type of person to install air con...</td>\n",
       "      <td>neutral</td>\n",
       "    </tr>\n",
       "    <tr>\n",
       "      <th>1477</th>\n",
       "      <td>its crazy how we are listening to these songs ...</td>\n",
       "      <td>positive</td>\n",
       "    </tr>\n",
       "    <tr>\n",
       "      <th>1487</th>\n",
       "      <td>years later if youre watching this youre legend</td>\n",
       "      <td>positive</td>\n",
       "    </tr>\n",
       "  </tbody>\n",
       "</table>\n",
       "<p>216 rows × 2 columns</p>\n",
       "</div>"
      ],
      "text/plain": [
       "                                                Comment Category Comment\n",
       "10    the people who liked this comment is officiall...          neutral\n",
       "13    the people who liked this comment is officiall...          neutral\n",
       "14    the people who liked this comment is officiall...          neutral\n",
       "15    the people who liked this comment is officiall...          neutral\n",
       "27    the people who liked this comment is officiall...          neutral\n",
       "...                                                 ...              ...\n",
       "1451  im surprised nintendo hasnt striked drake for ...          neutral\n",
       "1452  listening to this to remember the old days whe...         positive\n",
       "1453  drake is the type of person to install air con...          neutral\n",
       "1477  its crazy how we are listening to these songs ...         positive\n",
       "1487    years later if youre watching this youre legend         positive\n",
       "\n",
       "[216 rows x 2 columns]"
      ]
     },
     "execution_count": 18,
     "metadata": {},
     "output_type": "execute_result"
    }
   ],
   "source": [
    "dataset.loc[dataset.Comment.duplicated(), :]"
   ]
  },
  {
   "cell_type": "markdown",
   "id": "86ca2dc0",
   "metadata": {},
   "source": [
    "### Menghapus data duplikat di didalam dataset"
   ]
  },
  {
   "cell_type": "code",
   "execution_count": 19,
   "id": "e8e8e857",
   "metadata": {},
   "outputs": [],
   "source": [
    "dataset_bersih = dataset.drop_duplicates(subset=[\"Comment\"])\n",
    "dataset_bersih.reset_index(drop=True, inplace = True)"
   ]
  },
  {
   "cell_type": "markdown",
   "id": "7ec0e48a",
   "metadata": {},
   "source": [
    "### Mengecek kembali ke dalam dataset apakah dataset yang digunakan masih memiliki data duplikat"
   ]
  },
  {
   "cell_type": "code",
   "execution_count": 20,
   "id": "667be686",
   "metadata": {},
   "outputs": [
    {
     "data": {
      "text/plain": [
       "0"
      ]
     },
     "execution_count": 20,
     "metadata": {},
     "output_type": "execute_result"
    }
   ],
   "source": [
    "dataset_bersih.Comment.duplicated().sum()"
   ]
  },
  {
   "cell_type": "markdown",
   "id": "879e9013",
   "metadata": {},
   "source": [
    "### Mengecek shape (baris dan kolom)"
   ]
  },
  {
   "cell_type": "code",
   "execution_count": 21,
   "id": "f69567f3",
   "metadata": {},
   "outputs": [
    {
     "data": {
      "text/plain": [
       "(1283, 2)"
      ]
     },
     "execution_count": 21,
     "metadata": {},
     "output_type": "execute_result"
    }
   ],
   "source": [
    "dataset_bersih.shape"
   ]
  },
  {
   "cell_type": "markdown",
   "id": "fa54b9c7",
   "metadata": {},
   "source": [
    "### Import dataset baru"
   ]
  },
  {
   "cell_type": "code",
   "execution_count": 22,
   "id": "a45d0cd8",
   "metadata": {},
   "outputs": [
    {
     "data": {
      "text/html": [
       "<div>\n",
       "<style scoped>\n",
       "    .dataframe tbody tr th:only-of-type {\n",
       "        vertical-align: middle;\n",
       "    }\n",
       "\n",
       "    .dataframe tbody tr th {\n",
       "        vertical-align: top;\n",
       "    }\n",
       "\n",
       "    .dataframe thead th {\n",
       "        text-align: right;\n",
       "    }\n",
       "</style>\n",
       "<table border=\"1\" class=\"dataframe\">\n",
       "  <thead>\n",
       "    <tr style=\"text-align: right;\">\n",
       "      <th></th>\n",
       "      <th>Unnamed: 0</th>\n",
       "      <th>Comment</th>\n",
       "      <th>Category Comment</th>\n",
       "    </tr>\n",
       "  </thead>\n",
       "  <tbody>\n",
       "    <tr>\n",
       "      <th>0</th>\n",
       "      <td>0</td>\n",
       "      <td>the people who liked this comment is officiall...</td>\n",
       "      <td>neutral</td>\n",
       "    </tr>\n",
       "    <tr>\n",
       "      <th>1</th>\n",
       "      <td>1</td>\n",
       "      <td>lets be honest this wasnt your recommendation ...</td>\n",
       "      <td>neutral</td>\n",
       "    </tr>\n",
       "    <tr>\n",
       "      <th>2</th>\n",
       "      <td>2</td>\n",
       "      <td>million comments if you find mine your legend</td>\n",
       "      <td>positive</td>\n",
       "    </tr>\n",
       "    <tr>\n",
       "      <th>3</th>\n",
       "      <td>3</td>\n",
       "      <td>the ones who are not from tik tok can like thi...</td>\n",
       "      <td>negative</td>\n",
       "    </tr>\n",
       "    <tr>\n",
       "      <th>4</th>\n",
       "      <td>4</td>\n",
       "      <td>the first viewer must feel like the king of th...</td>\n",
       "      <td>positive</td>\n",
       "    </tr>\n",
       "    <tr>\n",
       "      <th>...</th>\n",
       "      <td>...</td>\n",
       "      <td>...</td>\n",
       "      <td>...</td>\n",
       "    </tr>\n",
       "    <tr>\n",
       "      <th>1278</th>\n",
       "      <td>1278</td>\n",
       "      <td>good job chris on the bil knew this song would...</td>\n",
       "      <td>positive</td>\n",
       "    </tr>\n",
       "    <tr>\n",
       "      <th>1279</th>\n",
       "      <td>1279</td>\n",
       "      <td>lets see whos here from september to december</td>\n",
       "      <td>positive</td>\n",
       "    </tr>\n",
       "    <tr>\n",
       "      <th>1280</th>\n",
       "      <td>1280</td>\n",
       "      <td>billion views this song is so underrated</td>\n",
       "      <td>neutral</td>\n",
       "    </tr>\n",
       "    <tr>\n",
       "      <th>1281</th>\n",
       "      <td>1281</td>\n",
       "      <td>as soon as this hits billi everyone go to chri...</td>\n",
       "      <td>positive</td>\n",
       "    </tr>\n",
       "    <tr>\n",
       "      <th>1282</th>\n",
       "      <td>1282</td>\n",
       "      <td>the best second to michael jackson you deserve...</td>\n",
       "      <td>positive</td>\n",
       "    </tr>\n",
       "  </tbody>\n",
       "</table>\n",
       "<p>1283 rows × 3 columns</p>\n",
       "</div>"
      ],
      "text/plain": [
       "      Unnamed: 0                                            Comment  \\\n",
       "0              0  the people who liked this comment is officiall...   \n",
       "1              1  lets be honest this wasnt your recommendation ...   \n",
       "2              2      million comments if you find mine your legend   \n",
       "3              3  the ones who are not from tik tok can like thi...   \n",
       "4              4  the first viewer must feel like the king of th...   \n",
       "...          ...                                                ...   \n",
       "1278        1278  good job chris on the bil knew this song would...   \n",
       "1279        1279      lets see whos here from september to december   \n",
       "1280        1280           billion views this song is so underrated   \n",
       "1281        1281  as soon as this hits billi everyone go to chri...   \n",
       "1282        1282  the best second to michael jackson you deserve...   \n",
       "\n",
       "     Category Comment  \n",
       "0             neutral  \n",
       "1             neutral  \n",
       "2            positive  \n",
       "3            negative  \n",
       "4            positive  \n",
       "...               ...  \n",
       "1278         positive  \n",
       "1279         positive  \n",
       "1280          neutral  \n",
       "1281         positive  \n",
       "1282         positive  \n",
       "\n",
       "[1283 rows x 3 columns]"
      ]
     },
     "execution_count": 22,
     "metadata": {},
     "output_type": "execute_result"
    }
   ],
   "source": [
    "df_bersih = pd.read_csv('dataset_youtube_bersih.csv')\n",
    "df_bersih"
   ]
  },
  {
   "cell_type": "markdown",
   "id": "63e60522",
   "metadata": {},
   "source": [
    "### Menghapus kolom Unnamed: 0 yg terdapat dalam dataset"
   ]
  },
  {
   "cell_type": "code",
   "execution_count": 23,
   "id": "c97b1ef6",
   "metadata": {},
   "outputs": [],
   "source": [
    "del df_bersih['Unnamed: 0']"
   ]
  },
  {
   "cell_type": "markdown",
   "id": "291e56c5",
   "metadata": {},
   "source": [
    "### Melihat data target, label encoding, dan menjadikan nilai neutral = 0, positive = 1, & negative = 2"
   ]
  },
  {
   "cell_type": "code",
   "execution_count": 24,
   "id": "006166e1",
   "metadata": {},
   "outputs": [
    {
     "data": {
      "text/html": [
       "<div>\n",
       "<style scoped>\n",
       "    .dataframe tbody tr th:only-of-type {\n",
       "        vertical-align: middle;\n",
       "    }\n",
       "\n",
       "    .dataframe tbody tr th {\n",
       "        vertical-align: top;\n",
       "    }\n",
       "\n",
       "    .dataframe thead th {\n",
       "        text-align: right;\n",
       "    }\n",
       "</style>\n",
       "<table border=\"1\" class=\"dataframe\">\n",
       "  <thead>\n",
       "    <tr style=\"text-align: right;\">\n",
       "      <th></th>\n",
       "      <th>Comment</th>\n",
       "      <th>Category Comment</th>\n",
       "      <th>Target_type</th>\n",
       "    </tr>\n",
       "  </thead>\n",
       "  <tbody>\n",
       "    <tr>\n",
       "      <th>0</th>\n",
       "      <td>the people who liked this comment is officiall...</td>\n",
       "      <td>neutral</td>\n",
       "      <td>0</td>\n",
       "    </tr>\n",
       "    <tr>\n",
       "      <th>1</th>\n",
       "      <td>lets be honest this wasnt your recommendation ...</td>\n",
       "      <td>neutral</td>\n",
       "      <td>0</td>\n",
       "    </tr>\n",
       "    <tr>\n",
       "      <th>2</th>\n",
       "      <td>million comments if you find mine your legend</td>\n",
       "      <td>positive</td>\n",
       "      <td>1</td>\n",
       "    </tr>\n",
       "    <tr>\n",
       "      <th>3</th>\n",
       "      <td>the ones who are not from tik tok can like thi...</td>\n",
       "      <td>negative</td>\n",
       "      <td>2</td>\n",
       "    </tr>\n",
       "    <tr>\n",
       "      <th>4</th>\n",
       "      <td>the first viewer must feel like the king of th...</td>\n",
       "      <td>positive</td>\n",
       "      <td>1</td>\n",
       "    </tr>\n",
       "    <tr>\n",
       "      <th>...</th>\n",
       "      <td>...</td>\n",
       "      <td>...</td>\n",
       "      <td>...</td>\n",
       "    </tr>\n",
       "    <tr>\n",
       "      <th>1278</th>\n",
       "      <td>good job chris on the bil knew this song would...</td>\n",
       "      <td>positive</td>\n",
       "      <td>1</td>\n",
       "    </tr>\n",
       "    <tr>\n",
       "      <th>1279</th>\n",
       "      <td>lets see whos here from september to december</td>\n",
       "      <td>positive</td>\n",
       "      <td>1</td>\n",
       "    </tr>\n",
       "    <tr>\n",
       "      <th>1280</th>\n",
       "      <td>billion views this song is so underrated</td>\n",
       "      <td>neutral</td>\n",
       "      <td>0</td>\n",
       "    </tr>\n",
       "    <tr>\n",
       "      <th>1281</th>\n",
       "      <td>as soon as this hits billi everyone go to chri...</td>\n",
       "      <td>positive</td>\n",
       "      <td>1</td>\n",
       "    </tr>\n",
       "    <tr>\n",
       "      <th>1282</th>\n",
       "      <td>the best second to michael jackson you deserve...</td>\n",
       "      <td>positive</td>\n",
       "      <td>1</td>\n",
       "    </tr>\n",
       "  </tbody>\n",
       "</table>\n",
       "<p>1283 rows × 3 columns</p>\n",
       "</div>"
      ],
      "text/plain": [
       "                                                Comment Category Comment  \\\n",
       "0     the people who liked this comment is officiall...          neutral   \n",
       "1     lets be honest this wasnt your recommendation ...          neutral   \n",
       "2         million comments if you find mine your legend         positive   \n",
       "3     the ones who are not from tik tok can like thi...         negative   \n",
       "4     the first viewer must feel like the king of th...         positive   \n",
       "...                                                 ...              ...   \n",
       "1278  good job chris on the bil knew this song would...         positive   \n",
       "1279      lets see whos here from september to december         positive   \n",
       "1280           billion views this song is so underrated          neutral   \n",
       "1281  as soon as this hits billi everyone go to chri...         positive   \n",
       "1282  the best second to michael jackson you deserve...         positive   \n",
       "\n",
       "      Target_type  \n",
       "0               0  \n",
       "1               0  \n",
       "2               1  \n",
       "3               2  \n",
       "4               1  \n",
       "...           ...  \n",
       "1278            1  \n",
       "1279            1  \n",
       "1280            0  \n",
       "1281            1  \n",
       "1282            1  \n",
       "\n",
       "[1283 rows x 3 columns]"
      ]
     },
     "execution_count": 24,
     "metadata": {},
     "output_type": "execute_result"
    }
   ],
   "source": [
    "df_bersih['Target_type'] = df_bersih['Category Comment'].map({'neutral': 0, 'positive':1, 'negative': 2})\n",
    "df_bersih"
   ]
  },
  {
   "cell_type": "markdown",
   "id": "d0332d4b",
   "metadata": {},
   "source": [
    "### Melihat jumlah data berdasarkan Category Comment"
   ]
  },
  {
   "cell_type": "code",
   "execution_count": 25,
   "id": "025b9e21",
   "metadata": {},
   "outputs": [
    {
     "data": {
      "text/plain": [
       "positive    813\n",
       "neutral     360\n",
       "negative    110\n",
       "Name: Category Comment, dtype: int64"
      ]
     },
     "execution_count": 25,
     "metadata": {},
     "output_type": "execute_result"
    }
   ],
   "source": [
    "df_bersih['Category Comment'].value_counts()"
   ]
  },
  {
   "cell_type": "code",
   "execution_count": 26,
   "id": "f9c03204",
   "metadata": {},
   "outputs": [
    {
     "data": {
      "text/html": [
       "<div>\n",
       "<style scoped>\n",
       "    .dataframe tbody tr th:only-of-type {\n",
       "        vertical-align: middle;\n",
       "    }\n",
       "\n",
       "    .dataframe tbody tr th {\n",
       "        vertical-align: top;\n",
       "    }\n",
       "\n",
       "    .dataframe thead th {\n",
       "        text-align: right;\n",
       "    }\n",
       "</style>\n",
       "<table border=\"1\" class=\"dataframe\">\n",
       "  <thead>\n",
       "    <tr style=\"text-align: right;\">\n",
       "      <th></th>\n",
       "      <th>Comment</th>\n",
       "      <th>Category Comment</th>\n",
       "      <th>Target_type</th>\n",
       "    </tr>\n",
       "  </thead>\n",
       "  <tbody>\n",
       "    <tr>\n",
       "      <th>0</th>\n",
       "      <td>the ones who are not from tik tok can like thi...</td>\n",
       "      <td>negative</td>\n",
       "      <td>2</td>\n",
       "    </tr>\n",
       "    <tr>\n",
       "      <th>1</th>\n",
       "      <td>these dislikes were people from who didnt sing...</td>\n",
       "      <td>negative</td>\n",
       "      <td>2</td>\n",
       "    </tr>\n",
       "    <tr>\n",
       "      <th>2</th>\n",
       "      <td>can you stop liking now the notifications gett...</td>\n",
       "      <td>negative</td>\n",
       "      <td>2</td>\n",
       "    </tr>\n",
       "    <tr>\n",
       "      <th>3</th>\n",
       "      <td>only people who didnt came from tik tok are wo...</td>\n",
       "      <td>negative</td>\n",
       "      <td>2</td>\n",
       "    </tr>\n",
       "    <tr>\n",
       "      <th>4</th>\n",
       "      <td>it has mor dislikes than de average likes of b...</td>\n",
       "      <td>negative</td>\n",
       "      <td>2</td>\n",
       "    </tr>\n",
       "    <tr>\n",
       "      <th>...</th>\n",
       "      <td>...</td>\n",
       "      <td>...</td>\n",
       "      <td>...</td>\n",
       "    </tr>\n",
       "    <tr>\n",
       "      <th>435</th>\n",
       "      <td>never really liked this song but the meme like...</td>\n",
       "      <td>negative</td>\n",
       "      <td>2</td>\n",
       "    </tr>\n",
       "    <tr>\n",
       "      <th>436</th>\n",
       "      <td>no nudes no drugs no alcohol just some meme ma...</td>\n",
       "      <td>negative</td>\n",
       "      <td>2</td>\n",
       "    </tr>\n",
       "    <tr>\n",
       "      <th>437</th>\n",
       "      <td>this sounds so weird without the wii shop musi...</td>\n",
       "      <td>negative</td>\n",
       "      <td>2</td>\n",
       "    </tr>\n",
       "    <tr>\n",
       "      <th>438</th>\n",
       "      <td>if you mess with me like rohan once did youre ...</td>\n",
       "      <td>negative</td>\n",
       "      <td>2</td>\n",
       "    </tr>\n",
       "    <tr>\n",
       "      <th>439</th>\n",
       "      <td>hate people who misspell zayn as zyan</td>\n",
       "      <td>negative</td>\n",
       "      <td>2</td>\n",
       "    </tr>\n",
       "  </tbody>\n",
       "</table>\n",
       "<p>440 rows × 3 columns</p>\n",
       "</div>"
      ],
      "text/plain": [
       "                                               Comment Category Comment  \\\n",
       "0    the ones who are not from tik tok can like thi...         negative   \n",
       "1    these dislikes were people from who didnt sing...         negative   \n",
       "2    can you stop liking now the notifications gett...         negative   \n",
       "3    only people who didnt came from tik tok are wo...         negative   \n",
       "4    it has mor dislikes than de average likes of b...         negative   \n",
       "..                                                 ...              ...   \n",
       "435  never really liked this song but the meme like...         negative   \n",
       "436  no nudes no drugs no alcohol just some meme ma...         negative   \n",
       "437  this sounds so weird without the wii shop musi...         negative   \n",
       "438  if you mess with me like rohan once did youre ...         negative   \n",
       "439              hate people who misspell zayn as zyan         negative   \n",
       "\n",
       "     Target_type  \n",
       "0              2  \n",
       "1              2  \n",
       "2              2  \n",
       "3              2  \n",
       "4              2  \n",
       "..           ...  \n",
       "435            2  \n",
       "436            2  \n",
       "437            2  \n",
       "438            2  \n",
       "439            2  \n",
       "\n",
       "[440 rows x 3 columns]"
      ]
     },
     "execution_count": 26,
     "metadata": {},
     "output_type": "execute_result"
    }
   ],
   "source": [
    "#Melakukan Oversampling\n",
    "df_negatif = df_bersih.loc[df_bersih['Category Comment'] == 'negative']\n",
    "df_negatif_gabungan = pd.concat([df_negatif,df_negatif,df_negatif,df_negatif])\n",
    "df_negatif_gabungan.reset_index(drop = True, inplace = True)\n",
    "df_negatif_gabungan"
   ]
  },
  {
   "cell_type": "code",
   "execution_count": 27,
   "id": "e6b73d08",
   "metadata": {},
   "outputs": [
    {
     "data": {
      "text/html": [
       "<div>\n",
       "<style scoped>\n",
       "    .dataframe tbody tr th:only-of-type {\n",
       "        vertical-align: middle;\n",
       "    }\n",
       "\n",
       "    .dataframe tbody tr th {\n",
       "        vertical-align: top;\n",
       "    }\n",
       "\n",
       "    .dataframe thead th {\n",
       "        text-align: right;\n",
       "    }\n",
       "</style>\n",
       "<table border=\"1\" class=\"dataframe\">\n",
       "  <thead>\n",
       "    <tr style=\"text-align: right;\">\n",
       "      <th></th>\n",
       "      <th>Comment</th>\n",
       "      <th>Category Comment</th>\n",
       "      <th>Target_type</th>\n",
       "    </tr>\n",
       "  </thead>\n",
       "  <tbody>\n",
       "    <tr>\n",
       "      <th>0</th>\n",
       "      <td>the people who liked this comment is officiall...</td>\n",
       "      <td>neutral</td>\n",
       "      <td>0</td>\n",
       "    </tr>\n",
       "    <tr>\n",
       "      <th>1</th>\n",
       "      <td>lets be honest this wasnt your recommendation ...</td>\n",
       "      <td>neutral</td>\n",
       "      <td>0</td>\n",
       "    </tr>\n",
       "    <tr>\n",
       "      <th>2</th>\n",
       "      <td>million comments if you find mine your legend</td>\n",
       "      <td>positive</td>\n",
       "      <td>1</td>\n",
       "    </tr>\n",
       "    <tr>\n",
       "      <th>3</th>\n",
       "      <td>the ones who are not from tik tok can like thi...</td>\n",
       "      <td>negative</td>\n",
       "      <td>2</td>\n",
       "    </tr>\n",
       "    <tr>\n",
       "      <th>4</th>\n",
       "      <td>the first viewer must feel like the king of th...</td>\n",
       "      <td>positive</td>\n",
       "      <td>1</td>\n",
       "    </tr>\n",
       "    <tr>\n",
       "      <th>...</th>\n",
       "      <td>...</td>\n",
       "      <td>...</td>\n",
       "      <td>...</td>\n",
       "    </tr>\n",
       "    <tr>\n",
       "      <th>1718</th>\n",
       "      <td>never really liked this song but the meme like...</td>\n",
       "      <td>negative</td>\n",
       "      <td>2</td>\n",
       "    </tr>\n",
       "    <tr>\n",
       "      <th>1719</th>\n",
       "      <td>no nudes no drugs no alcohol just some meme ma...</td>\n",
       "      <td>negative</td>\n",
       "      <td>2</td>\n",
       "    </tr>\n",
       "    <tr>\n",
       "      <th>1720</th>\n",
       "      <td>this sounds so weird without the wii shop musi...</td>\n",
       "      <td>negative</td>\n",
       "      <td>2</td>\n",
       "    </tr>\n",
       "    <tr>\n",
       "      <th>1721</th>\n",
       "      <td>if you mess with me like rohan once did youre ...</td>\n",
       "      <td>negative</td>\n",
       "      <td>2</td>\n",
       "    </tr>\n",
       "    <tr>\n",
       "      <th>1722</th>\n",
       "      <td>hate people who misspell zayn as zyan</td>\n",
       "      <td>negative</td>\n",
       "      <td>2</td>\n",
       "    </tr>\n",
       "  </tbody>\n",
       "</table>\n",
       "<p>1723 rows × 3 columns</p>\n",
       "</div>"
      ],
      "text/plain": [
       "                                                Comment Category Comment  \\\n",
       "0     the people who liked this comment is officiall...          neutral   \n",
       "1     lets be honest this wasnt your recommendation ...          neutral   \n",
       "2         million comments if you find mine your legend         positive   \n",
       "3     the ones who are not from tik tok can like thi...         negative   \n",
       "4     the first viewer must feel like the king of th...         positive   \n",
       "...                                                 ...              ...   \n",
       "1718  never really liked this song but the meme like...         negative   \n",
       "1719  no nudes no drugs no alcohol just some meme ma...         negative   \n",
       "1720  this sounds so weird without the wii shop musi...         negative   \n",
       "1721  if you mess with me like rohan once did youre ...         negative   \n",
       "1722              hate people who misspell zayn as zyan         negative   \n",
       "\n",
       "      Target_type  \n",
       "0               0  \n",
       "1               0  \n",
       "2               1  \n",
       "3               2  \n",
       "4               1  \n",
       "...           ...  \n",
       "1718            2  \n",
       "1719            2  \n",
       "1720            2  \n",
       "1721            2  \n",
       "1722            2  \n",
       "\n",
       "[1723 rows x 3 columns]"
      ]
     },
     "execution_count": 27,
     "metadata": {},
     "output_type": "execute_result"
    }
   ],
   "source": [
    "#menggabungkan data minor oversampling ke dalam dataset\n",
    "data_final = pd.concat([df_bersih,df_negatif_gabungan])\n",
    "data_final.reset_index(drop=True, inplace = True)\n",
    "data_final"
   ]
  },
  {
   "cell_type": "markdown",
   "id": "b49d0759",
   "metadata": {},
   "source": [
    "### Menyimpan dataset yang sudah dibersikhan ke dalam dataset baru"
   ]
  },
  {
   "cell_type": "code",
   "execution_count": 28,
   "id": "d334613d",
   "metadata": {},
   "outputs": [],
   "source": [
    "data_final.to_csv('dataset_bersih.csv')"
   ]
  },
  {
   "cell_type": "markdown",
   "id": "dad674be",
   "metadata": {},
   "source": [
    "### TOKENISASI"
   ]
  },
  {
   "cell_type": "code",
   "execution_count": 29,
   "id": "8d58ea1a",
   "metadata": {},
   "outputs": [],
   "source": [
    "def token(teks):\n",
    "  nstr = teks.split(\" \")\n",
    "  dt = []\n",
    "  a = -1\n",
    "  for i in nstr:\n",
    "    a = a + 1\n",
    "  if i == '':\n",
    "    dt.append(a)\n",
    "  p = 0\n",
    "  b = 0\n",
    "  for q in dt:\n",
    "    b = q - p\n",
    "    del nstr[b]\n",
    "    p = p + 1\n",
    "  return nstr"
   ]
  },
  {
   "cell_type": "code",
   "execution_count": 30,
   "id": "53350cbb",
   "metadata": {},
   "outputs": [],
   "source": [
    "data_final['Comment'] = data_final['Comment'].apply(token)"
   ]
  },
  {
   "cell_type": "markdown",
   "id": "9fefdbfe",
   "metadata": {},
   "source": [
    "## hapus stopwords"
   ]
  },
  {
   "cell_type": "code",
   "execution_count": 31,
   "id": "4b070f26",
   "metadata": {},
   "outputs": [
    {
     "data": {
      "text/html": [
       "<div>\n",
       "<style scoped>\n",
       "    .dataframe tbody tr th:only-of-type {\n",
       "        vertical-align: middle;\n",
       "    }\n",
       "\n",
       "    .dataframe tbody tr th {\n",
       "        vertical-align: top;\n",
       "    }\n",
       "\n",
       "    .dataframe thead th {\n",
       "        text-align: right;\n",
       "    }\n",
       "</style>\n",
       "<table border=\"1\" class=\"dataframe\">\n",
       "  <thead>\n",
       "    <tr style=\"text-align: right;\">\n",
       "      <th></th>\n",
       "      <th>Comment</th>\n",
       "      <th>Category Comment</th>\n",
       "      <th>Target_type</th>\n",
       "    </tr>\n",
       "  </thead>\n",
       "  <tbody>\n",
       "    <tr>\n",
       "      <th>0</th>\n",
       "      <td>[the, people, who, liked, this, comment, is, o...</td>\n",
       "      <td>neutral</td>\n",
       "      <td>0</td>\n",
       "    </tr>\n",
       "    <tr>\n",
       "      <th>1</th>\n",
       "      <td>[lets, be, honest, this, wasnt, your, recommen...</td>\n",
       "      <td>neutral</td>\n",
       "      <td>0</td>\n",
       "    </tr>\n",
       "    <tr>\n",
       "      <th>2</th>\n",
       "      <td>[million, comments, if, you, find, mine, your,...</td>\n",
       "      <td>positive</td>\n",
       "      <td>1</td>\n",
       "    </tr>\n",
       "    <tr>\n",
       "      <th>3</th>\n",
       "      <td>[the, ones, who, are, not, from, tik, tok, can...</td>\n",
       "      <td>negative</td>\n",
       "      <td>2</td>\n",
       "    </tr>\n",
       "    <tr>\n",
       "      <th>4</th>\n",
       "      <td>[the, first, viewer, must, feel, like, the, ki...</td>\n",
       "      <td>positive</td>\n",
       "      <td>1</td>\n",
       "    </tr>\n",
       "    <tr>\n",
       "      <th>...</th>\n",
       "      <td>...</td>\n",
       "      <td>...</td>\n",
       "      <td>...</td>\n",
       "    </tr>\n",
       "    <tr>\n",
       "      <th>1718</th>\n",
       "      <td>[never, really, liked, this, song, but, the, m...</td>\n",
       "      <td>negative</td>\n",
       "      <td>2</td>\n",
       "    </tr>\n",
       "    <tr>\n",
       "      <th>1719</th>\n",
       "      <td>[no, nudes, no, drugs, no, alcohol, just, some...</td>\n",
       "      <td>negative</td>\n",
       "      <td>2</td>\n",
       "    </tr>\n",
       "    <tr>\n",
       "      <th>1720</th>\n",
       "      <td>[this, sounds, so, weird, without, the, wii, s...</td>\n",
       "      <td>negative</td>\n",
       "      <td>2</td>\n",
       "    </tr>\n",
       "    <tr>\n",
       "      <th>1721</th>\n",
       "      <td>[if, you, mess, with, me, like, rohan, once, d...</td>\n",
       "      <td>negative</td>\n",
       "      <td>2</td>\n",
       "    </tr>\n",
       "    <tr>\n",
       "      <th>1722</th>\n",
       "      <td>[hate, people, who, misspell, zayn, as, zyan]</td>\n",
       "      <td>negative</td>\n",
       "      <td>2</td>\n",
       "    </tr>\n",
       "  </tbody>\n",
       "</table>\n",
       "<p>1723 rows × 3 columns</p>\n",
       "</div>"
      ],
      "text/plain": [
       "                                                Comment Category Comment  \\\n",
       "0     [the, people, who, liked, this, comment, is, o...          neutral   \n",
       "1     [lets, be, honest, this, wasnt, your, recommen...          neutral   \n",
       "2     [million, comments, if, you, find, mine, your,...         positive   \n",
       "3     [the, ones, who, are, not, from, tik, tok, can...         negative   \n",
       "4     [the, first, viewer, must, feel, like, the, ki...         positive   \n",
       "...                                                 ...              ...   \n",
       "1718  [never, really, liked, this, song, but, the, m...         negative   \n",
       "1719  [no, nudes, no, drugs, no, alcohol, just, some...         negative   \n",
       "1720  [this, sounds, so, weird, without, the, wii, s...         negative   \n",
       "1721  [if, you, mess, with, me, like, rohan, once, d...         negative   \n",
       "1722      [hate, people, who, misspell, zayn, as, zyan]         negative   \n",
       "\n",
       "      Target_type  \n",
       "0               0  \n",
       "1               0  \n",
       "2               1  \n",
       "3               2  \n",
       "4               1  \n",
       "...           ...  \n",
       "1718            2  \n",
       "1719            2  \n",
       "1720            2  \n",
       "1721            2  \n",
       "1722            2  \n",
       "\n",
       "[1723 rows x 3 columns]"
      ]
     },
     "execution_count": 31,
     "metadata": {},
     "output_type": "execute_result"
    }
   ],
   "source": [
    "data_final"
   ]
  },
  {
   "cell_type": "code",
   "execution_count": 32,
   "id": "3e63be33",
   "metadata": {},
   "outputs": [
    {
     "name": "stderr",
     "output_type": "stream",
     "text": [
      "[nltk_data] Downloading package stopwords to\n",
      "[nltk_data]     C:\\Users\\USER\\AppData\\Roaming\\nltk_data...\n",
      "[nltk_data]   Package stopwords is already up-to-date!\n"
     ]
    },
    {
     "data": {
      "text/plain": [
       "0          [people, liked, comment, officially, views]\n",
       "1      [lets, honest, wasnt, recommendation, searched]\n",
       "2              [million, comments, find, mine, legend]\n",
       "3                      [ones, tik, tok, like, comment]\n",
       "4       [first, viewer, must, feel, like, king, world]\n",
       "5             [imagine, many, peoples, come, everyday]\n",
       "6                       [comments, find, mine, legend]\n",
       "7                                 [came, check, views]\n",
       "8    [imagine, many, armys, coming, every, secondsm...\n",
       "9                                         [hey, mikee]\n",
       "Name: Comment, dtype: object"
      ]
     },
     "execution_count": 32,
     "metadata": {},
     "output_type": "execute_result"
    }
   ],
   "source": [
    "import nltk\n",
    "nltk.download('stopwords')\n",
    "from nltk.corpus import stopwords\n",
    "\n",
    "list_stopwords = stopwords.words('english')\n",
    "# read txt stopword using pandas\n",
    "txt_stopword = pd.read_csv(\"stopwords.txt\", names= [\"stopwords\"], header = None)\n",
    "\n",
    "# convert stopword string to list & append additional stopword\n",
    "list_stopwords.extend(txt_stopword[\"stopwords\"][0].split(' '))\n",
    "\n",
    "# convert list to dictionary\n",
    "list_stopwords = set(list_stopwords)\n",
    "\n",
    "\n",
    "#remove stopword pada list token\n",
    "def stopwords_removal(words):\n",
    "    return [word for word in words if word not in list_stopwords]\n",
    "\n",
    "data_final['Comment'] = data_final['Comment'].apply(stopwords_removal) \n",
    "\n",
    "\n",
    "data_final['Comment'].head(10)"
   ]
  },
  {
   "cell_type": "markdown",
   "id": "89485cf0",
   "metadata": {},
   "source": [
    "### STEMMING"
   ]
  },
  {
   "cell_type": "code",
   "execution_count": 33,
   "id": "6b44c08a",
   "metadata": {},
   "outputs": [
    {
     "name": "stdout",
     "output_type": "stream",
     "text": [
      "Requirement already satisfied: nltk in c:\\users\\user\\appdata\\local\\programs\\python\\python310\\lib\\site-packages (3.7)\n",
      "Requirement already satisfied: joblib in c:\\users\\user\\appdata\\local\\programs\\python\\python310\\lib\\site-packages (from nltk) (1.2.0)\n",
      "Requirement already satisfied: regex>=2021.8.3 in c:\\users\\user\\appdata\\local\\programs\\python\\python310\\lib\\site-packages (from nltk) (2022.10.31)\n",
      "Requirement already satisfied: tqdm in c:\\users\\user\\appdata\\local\\programs\\python\\python310\\lib\\site-packages (from nltk) (4.64.1)\n",
      "Requirement already satisfied: click in c:\\users\\user\\appdata\\local\\programs\\python\\python310\\lib\\site-packages (from nltk) (8.1.3)\n",
      "Requirement already satisfied: colorama in c:\\users\\user\\appdata\\local\\programs\\python\\python310\\lib\\site-packages (from click->nltk) (0.4.5)\n",
      "Collecting swifter\n",
      "  Using cached swifter-1.3.4.tar.gz (830 kB)\n",
      "  Preparing metadata (setup.py): started\n"
     ]
    },
    {
     "ename": "ModuleNotFoundError",
     "evalue": "No module named 'swifter'",
     "output_type": "error",
     "traceback": [
      "\u001b[1;31m---------------------------------------------------------------------------\u001b[0m",
      "\u001b[1;31mModuleNotFoundError\u001b[0m                       Traceback (most recent call last)",
      "Cell \u001b[1;32mIn [33], line 5\u001b[0m\n\u001b[0;32m      3\u001b[0m get_ipython()\u001b[38;5;241m.\u001b[39msystem(\u001b[38;5;124m'\u001b[39m\u001b[38;5;124mpip install english-word\u001b[39m\u001b[38;5;124m'\u001b[39m)\n\u001b[0;32m      4\u001b[0m get_ipython()\u001b[38;5;241m.\u001b[39msystem(\u001b[38;5;124m'\u001b[39m\u001b[38;5;124mpip install swifter\u001b[39m\u001b[38;5;124m'\u001b[39m)\n\u001b[1;32m----> 5\u001b[0m \u001b[38;5;28;01mimport\u001b[39;00m \u001b[38;5;21;01mswifter\u001b[39;00m\n",
      "\u001b[1;31mModuleNotFoundError\u001b[0m: No module named 'swifter'"
     ]
    }
   ],
   "source": [
    "!pip install english-dictionary\n",
    "!pip install nltk\n",
    "!pip install english-word\n",
    "!pip install swifter\n",
    "import swifter"
   ]
  },
  {
   "cell_type": "code",
   "execution_count": null,
   "id": "c71b11fc",
   "metadata": {},
   "outputs": [
    {
     "name": "stdout",
     "output_type": "stream",
     "text": [
      "showing info https://raw.githubusercontent.com/nltk/nltk_data/gh-pages/index.xml\n"
     ]
    }
   ],
   "source": [
    "import nltk\n",
    "nltk.download()"
   ]
  },
  {
   "cell_type": "code",
   "execution_count": null,
   "id": "a5a8e378",
   "metadata": {},
   "outputs": [],
   "source": [
    "from nltk.stem import PorterStemmer\n",
    "from nltk.tokenize import word_tokenize"
   ]
  },
  {
   "cell_type": "code",
   "execution_count": null,
   "id": "f3b1632a",
   "metadata": {},
   "outputs": [],
   "source": [
    "#create an object of class PorterStemmer\n",
    "porter = PorterStemmer()\n",
    "\n",
    "#proide a word to be stemmed\n",
    "print(\"Porter Stemmer Testing\")\n",
    "print(\"cats \\t\\t:\", porter.stem(\"cats\"))\n",
    "print(\"troble \\t\\t:\", porter.stem(\"trouble\"))\n",
    "print(\"troubling \\t:\", porter.stem(\"troubling\"))\n",
    "print(\"troubled \\t:\", porter.stem(\"troubled\"))"
   ]
  },
  {
   "cell_type": "code",
   "execution_count": null,
   "id": "55a6c44e",
   "metadata": {},
   "outputs": [],
   "source": [
    "# stemmed\n",
    "def stemmed_wrapper(term):\n",
    "    return porter.stem(term)\n",
    "\n",
    "term_dict = {}\n",
    "\n",
    "for document in data_final['Comment']:\n",
    "    for term in document:\n",
    "        if term not in term_dict:\n",
    "            term_dict[term] = ' '\n",
    "print(len(term_dict))\n",
    "print(\"------------------------\")\n",
    "for term in term_dict:\n",
    "    term_dict[term] = stemmed_wrapper(term)\n",
    "    print(term,\":\" ,term_dict[term])\n",
    "    \n",
    "print(term_dict)\n",
    "print(\"------------------------\")\n",
    "\n",
    "# apply stemmed term to dataframe\n",
    "def get_stemmed_term(document):\n",
    "    return [term_dict[term] for term in document]\n",
    "\n",
    "data_final['Comment'] = data_final['Comment'].swifter.apply(get_stemmed_term)\n",
    "print(data_final['Comment'])"
   ]
  },
  {
   "cell_type": "markdown",
   "id": "5fdc7d19",
   "metadata": {},
   "source": [
    "### MODELING"
   ]
  },
  {
   "cell_type": "code",
   "execution_count": null,
   "id": "662b3e17",
   "metadata": {},
   "outputs": [],
   "source": [
    "# library for train test split\n",
    "from sklearn.model_selection import train_test_split\n",
    "\n",
    "# deep learning libraries for text pre-processing\n",
    "import tensorflow as tf\n",
    "from tensorflow.keras.preprocessing.text import Tokenizer\n",
    "from tensorflow.keras.preprocessing.sequence import pad_sequences\n",
    "\n",
    "# Modeling \n",
    "from tensorflow.keras.callbacks import EarlyStopping\n",
    "from tensorflow.keras import layers, models, regularizers,initializers\n",
    "from sklearn.model_selection import StratifiedKFold \n",
    "\n",
    "#Confusion Matrix\n",
    "from sklearn.metrics import confusion_matrix"
   ]
  },
  {
   "cell_type": "code",
   "execution_count": null,
   "id": "3444904d",
   "metadata": {},
   "outputs": [],
   "source": [
    "X = data_final['Comment'].values\n",
    "y = data_final['Target_type'].values"
   ]
  },
  {
   "cell_type": "code",
   "execution_count": null,
   "id": "3289d68a",
   "metadata": {},
   "outputs": [],
   "source": [
    "X"
   ]
  },
  {
   "cell_type": "code",
   "execution_count": null,
   "id": "fe9354f1",
   "metadata": {},
   "outputs": [],
   "source": [
    "y"
   ]
  },
  {
   "cell_type": "code",
   "execution_count": null,
   "id": "f7094a8f",
   "metadata": {},
   "outputs": [],
   "source": [
    "# Split data into train, val and test\n",
    "x_train, x_test, y_train, y_test = train_test_split(X, y, test_size=0.2, random_state=42)\n",
    "x_train"
   ]
  },
  {
   "cell_type": "code",
   "execution_count": null,
   "id": "e7b804fd",
   "metadata": {},
   "outputs": [],
   "source": [
    "NUM_WORDS = 15000\n",
    "\n",
    "tokenizer = Tokenizer(num_words=NUM_WORDS, split=' ')\n",
    "tokenizer.fit_on_texts(x_train)"
   ]
  },
  {
   "cell_type": "code",
   "execution_count": null,
   "id": "5f155553",
   "metadata": {},
   "outputs": [],
   "source": [
    "x_train_token = tokenizer.texts_to_sequences(x_train)\n",
    "x_test_token = tokenizer.texts_to_sequences(x_test)"
   ]
  },
  {
   "cell_type": "code",
   "execution_count": null,
   "id": "e88fa801",
   "metadata": {},
   "outputs": [],
   "source": [
    "MAXLEN = 250\n",
    "\n",
    "x_train_padding = pad_sequences(x_train_token, maxlen=MAXLEN, padding='pre', truncating='post')\n",
    "x_test_padding = pad_sequences(x_test_token, maxlen=MAXLEN, padding='pre', truncating='post')"
   ]
  },
  {
   "cell_type": "code",
   "execution_count": null,
   "id": "9b0ab638",
   "metadata": {},
   "outputs": [],
   "source": [
    "# Defining parameters\n",
    "max_len = 80\n",
    "trunc_type = \"post\" # 80 Kata Pertama.. \"pre\" -> 80 Kata Terakhir\n",
    "padding_type = \"post\" \n",
    "oov_tok = \"\" \n",
    "vocab_size = 14202 #jumlah maksimum kata yang disimpan\n",
    "\n",
    "# embedding_dim = 16\n",
    "# drop_value = 0.2"
   ]
  },
  {
   "cell_type": "code",
   "execution_count": null,
   "id": "9c3dfbd9",
   "metadata": {},
   "outputs": [],
   "source": [
    "tokenizer = Tokenizer(num_words = vocab_size, char_level = False, oov_token = oov_tok)\n",
    "tokenizer.fit_on_texts(x_train)"
   ]
  },
  {
   "cell_type": "code",
   "execution_count": null,
   "id": "2b674745",
   "metadata": {},
   "outputs": [],
   "source": [
    "# Get the word_index by using tokenizer\n",
    "word_index = tokenizer.word_index\n",
    "word_index"
   ]
  },
  {
   "cell_type": "code",
   "execution_count": null,
   "id": "6783492c",
   "metadata": {},
   "outputs": [],
   "source": [
    "from keras.models import Sequential\n",
    "from keras.layers import LSTM, Dense, Embedding"
   ]
  },
  {
   "cell_type": "code",
   "execution_count": null,
   "id": "0fd9e913",
   "metadata": {},
   "outputs": [],
   "source": [
    "class MyCallback(tf.keras.callbacks.Callback):\n",
    "  def on_epoch_end(self, epoch, logs={}):\n",
    "    if(logs.get('val_accuracy')>0.9):\n",
    "      print(\"\\nAkurasi validasi telah mencapai >90%!\")\n",
    "      self.model.stop_training = True\n",
    "callbacks = MyCallback()"
   ]
  },
  {
   "cell_type": "code",
   "execution_count": null,
   "id": "bfa9c24e",
   "metadata": {},
   "outputs": [],
   "source": [
    "model = Sequential([\n",
    "    Embedding(input_dim=NUM_WORDS, input_length=MAXLEN, output_dim=16),\n",
    "    tf.keras.layers.Bidirectional(LSTM(64, return_sequences=True)),\n",
    "    tf.keras.layers.Bidirectional(LSTM(32)),\n",
    "#     Dense(16, activation='relu'),\n",
    "#     tf.keras.layers.Dropout(0.2),\n",
    "    Dense(3, activation='softmax')\n",
    "])\n",
    "\n",
    "model.summary()"
   ]
  },
  {
   "cell_type": "code",
   "execution_count": null,
   "id": "9f687c89",
   "metadata": {},
   "outputs": [],
   "source": [
    "early_stopping = tf.keras.callbacks.EarlyStopping(\n",
    "    monitor='val_accuracy', \n",
    "    verbose=1,\n",
    "    patience=10,\n",
    "    mode='max',\n",
    "    restore_best_weights=True)"
   ]
  },
  {
   "cell_type": "code",
   "execution_count": null,
   "id": "953ecded",
   "metadata": {},
   "outputs": [],
   "source": [
    "model.compile(optimizer=tf.keras.optimizers.Adam(learning_rate=0.001),\n",
    "              loss='sparse_categorical_crossentropy',\n",
    "              metrics=['accuracy'])"
   ]
  },
  {
   "cell_type": "code",
   "execution_count": null,
   "id": "45b8c1ca",
   "metadata": {},
   "outputs": [],
   "source": [
    "EPOCHS = 15\n",
    "BATCH_SIZE = 32\n",
    "\n",
    "history = model.fit(x_train_padding,\n",
    "                    y_train,\n",
    "                    epochs=EPOCHS,\n",
    "                    batch_size=BATCH_SIZE,\n",
    "                    validation_data=(x_test_padding, y_test),\n",
    "                    verbose=2,\n",
    "                    callbacks=[callbacks, early_stopping])"
   ]
  },
  {
   "cell_type": "code",
   "execution_count": null,
   "id": "a1a0d25b",
   "metadata": {},
   "outputs": [],
   "source": [
    "def plot_graphs(history, string):\n",
    "    plt.plot(history.history[string])\n",
    "    plt.plot(history.history['val_'+string])\n",
    "    plt.xlabel(\"Epochs\")\n",
    "    plt.ylabel(string)\n",
    "    plt.legend([string, 'val_'+string])\n",
    "    plt.show()"
   ]
  },
  {
   "cell_type": "code",
   "execution_count": null,
   "id": "477c4b56",
   "metadata": {},
   "outputs": [],
   "source": [
    "plot_graphs(history, 'accuracy')\n",
    "plot_graphs(history, 'loss')"
   ]
  }
 ],
 "metadata": {
  "kernelspec": {
   "display_name": "Python 3 (ipykernel)",
   "language": "python",
   "name": "python3"
  },
  "language_info": {
   "codemirror_mode": {
    "name": "ipython",
    "version": 3
   },
   "file_extension": ".py",
   "mimetype": "text/x-python",
   "name": "python",
   "nbconvert_exporter": "python",
   "pygments_lexer": "ipython3",
   "version": "3.10.7"
  },
  "vscode": {
   "interpreter": {
    "hash": "11938c6bc6919ae2720b4d5011047913343b08a43b18698fd82dedb0d4417594"
   }
  }
 },
 "nbformat": 4,
 "nbformat_minor": 5
}
