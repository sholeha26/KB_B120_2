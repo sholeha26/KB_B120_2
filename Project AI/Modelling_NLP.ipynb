{
 "cells": [
  {
   "cell_type": "markdown",
   "id": "bd3fcd16",
   "metadata": {},
   "source": [
<<<<<<< HEAD
    "# Modelling \n",
    "\n",
    "## Import Library"
=======
    "# Modelling "
>>>>>>> b2febc6d7b9199b00100a20f8a109065e0d361a5
   ]
  },
  {
   "cell_type": "code",
   "execution_count": 1,
   "id": "b172b42d",
   "metadata": {},
<<<<<<< HEAD
   "outputs": [],
   "source": [
    "import pandas as pd\n",
    "import numpy as np\n",
    "# library for train test split\n",
    "from sklearn.model_selection import train_test_split\n",
    "\n",
    "# library for visualisasi\n",
=======
   "outputs": [
    {
     "name": "stderr",
     "output_type": "stream",
     "text": [
      "C:\\Users\\ASUS\\OneDrive\\Dokumen\\Praktikum KB\\venv_B1-20\\Krisdt_064\\lib\\site-packages\\numpy\\_distributor_init.py:30: UserWarning: loaded more than 1 DLL from .libs:\n",
      "C:\\Users\\ASUS\\OneDrive\\Dokumen\\Praktikum KB\\venv_B1-20\\Krisdt_064\\lib\\site-packages\\numpy\\.libs\\libopenblas.FB5AE2TYXYH2IJRDKGDGQ3XBKLKTF43H.gfortran-win_amd64.dll\n",
      "C:\\Users\\ASUS\\OneDrive\\Dokumen\\Praktikum KB\\venv_B1-20\\Krisdt_064\\lib\\site-packages\\numpy\\.libs\\libopenblas.XWYDX2IKJW2NMTWSFYNGFUWKQU3LYTCZ.gfortran-win_amd64.dll\n",
      "  warnings.warn(\"loaded more than 1 DLL from .libs:\"\n"
     ]
    }
   ],
   "source": [
    "import pandas as pd\n",
    "# library for train test split\n",
    "from sklearn.model_selection import train_test_split\n",
>>>>>>> b2febc6d7b9199b00100a20f8a109065e0d361a5
    "import matplotlib.pyplot as plt\n",
    "\n",
    "# deep learning libraries for text pre-processing\n",
    "import tensorflow as tf\n",
    "from tensorflow.keras.preprocessing.text import Tokenizer\n",
    "from tensorflow.keras.preprocessing.sequence import pad_sequences\n",
    "\n",
    "# Modeling \n",
    "from tensorflow.keras.callbacks import EarlyStopping\n",
    "from tensorflow.keras import layers, models, regularizers,initializers\n",
    "from sklearn.model_selection import StratifiedKFold \n",
<<<<<<< HEAD
=======
    "# from keras.preprocessing.text import Tokenizer\n",
    "# from keras.preprocessing.sequence import pad_sequences\n",
>>>>>>> b2febc6d7b9199b00100a20f8a109065e0d361a5
    "from keras.models import Sequential\n",
    "from keras.layers import LSTM, Dense, Embedding"
   ]
  },
  {
<<<<<<< HEAD
   "cell_type": "markdown",
   "id": "60b09d63",
   "metadata": {},
   "source": [
    "## Load Data"
   ]
  },
  {
=======
>>>>>>> b2febc6d7b9199b00100a20f8a109065e0d361a5
   "cell_type": "code",
   "execution_count": 2,
   "id": "4ce7ff51",
   "metadata": {},
   "outputs": [],
   "source": [
    "dataset = pd.read_csv('dataset_bersih.csv')"
   ]
  },
  {
   "cell_type": "code",
   "execution_count": 3,
   "id": "26444130",
   "metadata": {},
   "outputs": [
    {
     "data": {
      "text/html": [
       "<div>\n",
       "<style scoped>\n",
       "    .dataframe tbody tr th:only-of-type {\n",
       "        vertical-align: middle;\n",
       "    }\n",
       "\n",
       "    .dataframe tbody tr th {\n",
       "        vertical-align: top;\n",
       "    }\n",
       "\n",
       "    .dataframe thead th {\n",
       "        text-align: right;\n",
       "    }\n",
       "</style>\n",
       "<table border=\"1\" class=\"dataframe\">\n",
       "  <thead>\n",
       "    <tr style=\"text-align: right;\">\n",
       "      <th></th>\n",
       "      <th>Unnamed: 0</th>\n",
       "      <th>Comment</th>\n",
       "      <th>Category Comment</th>\n",
       "      <th>Target_type</th>\n",
       "    </tr>\n",
       "  </thead>\n",
       "  <tbody>\n",
       "    <tr>\n",
       "      <th>0</th>\n",
       "      <td>0</td>\n",
       "      <td>the people who liked this comment is officiall...</td>\n",
       "      <td>neutral</td>\n",
       "      <td>0</td>\n",
       "    </tr>\n",
       "    <tr>\n",
       "      <th>1</th>\n",
       "      <td>1</td>\n",
       "      <td>lets be honest this wasnt your recommendation ...</td>\n",
       "      <td>neutral</td>\n",
       "      <td>0</td>\n",
       "    </tr>\n",
       "    <tr>\n",
       "      <th>2</th>\n",
       "      <td>2</td>\n",
       "      <td>million comments if you find mine your legend</td>\n",
       "      <td>positive</td>\n",
       "      <td>1</td>\n",
       "    </tr>\n",
       "    <tr>\n",
       "      <th>3</th>\n",
       "      <td>3</td>\n",
       "      <td>the ones who are not from tik tok can like thi...</td>\n",
       "      <td>negative</td>\n",
       "      <td>2</td>\n",
       "    </tr>\n",
       "    <tr>\n",
       "      <th>4</th>\n",
       "      <td>4</td>\n",
       "      <td>the first viewer must feel like the king of th...</td>\n",
       "      <td>positive</td>\n",
       "      <td>1</td>\n",
       "    </tr>\n",
       "    <tr>\n",
       "      <th>...</th>\n",
       "      <td>...</td>\n",
       "      <td>...</td>\n",
       "      <td>...</td>\n",
       "      <td>...</td>\n",
       "    </tr>\n",
       "    <tr>\n",
       "      <th>1718</th>\n",
       "      <td>1718</td>\n",
       "      <td>never really liked this song but the meme like...</td>\n",
       "      <td>negative</td>\n",
       "      <td>2</td>\n",
       "    </tr>\n",
       "    <tr>\n",
       "      <th>1719</th>\n",
       "      <td>1719</td>\n",
       "      <td>no nudes no drugs no alcohol just some meme ma...</td>\n",
       "      <td>negative</td>\n",
       "      <td>2</td>\n",
       "    </tr>\n",
       "    <tr>\n",
       "      <th>1720</th>\n",
       "      <td>1720</td>\n",
       "      <td>this sounds so weird without the wii shop musi...</td>\n",
       "      <td>negative</td>\n",
       "      <td>2</td>\n",
       "    </tr>\n",
       "    <tr>\n",
       "      <th>1721</th>\n",
       "      <td>1721</td>\n",
       "      <td>if you mess with me like rohan once did youre ...</td>\n",
       "      <td>negative</td>\n",
       "      <td>2</td>\n",
       "    </tr>\n",
       "    <tr>\n",
       "      <th>1722</th>\n",
       "      <td>1722</td>\n",
       "      <td>hate people who misspell zayn as zyan</td>\n",
       "      <td>negative</td>\n",
       "      <td>2</td>\n",
       "    </tr>\n",
       "  </tbody>\n",
       "</table>\n",
       "<p>1723 rows × 4 columns</p>\n",
       "</div>"
      ],
      "text/plain": [
       "      Unnamed: 0                                            Comment  \\\n",
       "0              0  the people who liked this comment is officiall...   \n",
       "1              1  lets be honest this wasnt your recommendation ...   \n",
       "2              2      million comments if you find mine your legend   \n",
       "3              3  the ones who are not from tik tok can like thi...   \n",
       "4              4  the first viewer must feel like the king of th...   \n",
       "...          ...                                                ...   \n",
       "1718        1718  never really liked this song but the meme like...   \n",
       "1719        1719  no nudes no drugs no alcohol just some meme ma...   \n",
       "1720        1720  this sounds so weird without the wii shop musi...   \n",
       "1721        1721  if you mess with me like rohan once did youre ...   \n",
       "1722        1722              hate people who misspell zayn as zyan   \n",
       "\n",
       "     Category Comment  Target_type  \n",
       "0             neutral            0  \n",
       "1             neutral            0  \n",
       "2            positive            1  \n",
       "3            negative            2  \n",
       "4            positive            1  \n",
       "...               ...          ...  \n",
       "1718         negative            2  \n",
       "1719         negative            2  \n",
       "1720         negative            2  \n",
       "1721         negative            2  \n",
       "1722         negative            2  \n",
       "\n",
       "[1723 rows x 4 columns]"
      ]
     },
     "execution_count": 3,
     "metadata": {},
     "output_type": "execute_result"
    }
   ],
   "source": [
    "dataset"
   ]
  },
  {
   "cell_type": "code",
   "execution_count": 4,
   "id": "336f1633",
   "metadata": {},
   "outputs": [],
   "source": [
    "del dataset['Unnamed: 0']"
   ]
  },
  {
   "cell_type": "code",
   "execution_count": 5,
   "id": "51bd4ded",
   "metadata": {},
   "outputs": [
    {
     "data": {
      "text/html": [
       "<div>\n",
       "<style scoped>\n",
       "    .dataframe tbody tr th:only-of-type {\n",
       "        vertical-align: middle;\n",
       "    }\n",
       "\n",
       "    .dataframe tbody tr th {\n",
       "        vertical-align: top;\n",
       "    }\n",
       "\n",
       "    .dataframe thead th {\n",
       "        text-align: right;\n",
       "    }\n",
       "</style>\n",
       "<table border=\"1\" class=\"dataframe\">\n",
       "  <thead>\n",
       "    <tr style=\"text-align: right;\">\n",
       "      <th></th>\n",
       "      <th>Comment</th>\n",
       "      <th>Category Comment</th>\n",
       "      <th>Target_type</th>\n",
       "    </tr>\n",
       "  </thead>\n",
       "  <tbody>\n",
       "    <tr>\n",
       "      <th>0</th>\n",
       "      <td>the people who liked this comment is officiall...</td>\n",
       "      <td>neutral</td>\n",
       "      <td>0</td>\n",
       "    </tr>\n",
       "    <tr>\n",
       "      <th>1</th>\n",
       "      <td>lets be honest this wasnt your recommendation ...</td>\n",
       "      <td>neutral</td>\n",
       "      <td>0</td>\n",
       "    </tr>\n",
       "    <tr>\n",
       "      <th>2</th>\n",
       "      <td>million comments if you find mine your legend</td>\n",
       "      <td>positive</td>\n",
       "      <td>1</td>\n",
       "    </tr>\n",
       "    <tr>\n",
       "      <th>3</th>\n",
       "      <td>the ones who are not from tik tok can like thi...</td>\n",
       "      <td>negative</td>\n",
       "      <td>2</td>\n",
       "    </tr>\n",
       "    <tr>\n",
       "      <th>4</th>\n",
       "      <td>the first viewer must feel like the king of th...</td>\n",
       "      <td>positive</td>\n",
       "      <td>1</td>\n",
       "    </tr>\n",
       "    <tr>\n",
       "      <th>...</th>\n",
       "      <td>...</td>\n",
       "      <td>...</td>\n",
       "      <td>...</td>\n",
       "    </tr>\n",
       "    <tr>\n",
       "      <th>1718</th>\n",
       "      <td>never really liked this song but the meme like...</td>\n",
       "      <td>negative</td>\n",
       "      <td>2</td>\n",
       "    </tr>\n",
       "    <tr>\n",
       "      <th>1719</th>\n",
       "      <td>no nudes no drugs no alcohol just some meme ma...</td>\n",
       "      <td>negative</td>\n",
       "      <td>2</td>\n",
       "    </tr>\n",
       "    <tr>\n",
       "      <th>1720</th>\n",
       "      <td>this sounds so weird without the wii shop musi...</td>\n",
       "      <td>negative</td>\n",
       "      <td>2</td>\n",
       "    </tr>\n",
       "    <tr>\n",
       "      <th>1721</th>\n",
       "      <td>if you mess with me like rohan once did youre ...</td>\n",
       "      <td>negative</td>\n",
       "      <td>2</td>\n",
       "    </tr>\n",
       "    <tr>\n",
       "      <th>1722</th>\n",
       "      <td>hate people who misspell zayn as zyan</td>\n",
       "      <td>negative</td>\n",
       "      <td>2</td>\n",
       "    </tr>\n",
       "  </tbody>\n",
       "</table>\n",
       "<p>1723 rows × 3 columns</p>\n",
       "</div>"
      ],
      "text/plain": [
       "                                                Comment Category Comment  \\\n",
       "0     the people who liked this comment is officiall...          neutral   \n",
       "1     lets be honest this wasnt your recommendation ...          neutral   \n",
       "2         million comments if you find mine your legend         positive   \n",
       "3     the ones who are not from tik tok can like thi...         negative   \n",
       "4     the first viewer must feel like the king of th...         positive   \n",
       "...                                                 ...              ...   \n",
       "1718  never really liked this song but the meme like...         negative   \n",
       "1719  no nudes no drugs no alcohol just some meme ma...         negative   \n",
       "1720  this sounds so weird without the wii shop musi...         negative   \n",
       "1721  if you mess with me like rohan once did youre ...         negative   \n",
       "1722              hate people who misspell zayn as zyan         negative   \n",
       "\n",
       "      Target_type  \n",
       "0               0  \n",
       "1               0  \n",
       "2               1  \n",
       "3               2  \n",
       "4               1  \n",
       "...           ...  \n",
       "1718            2  \n",
       "1719            2  \n",
       "1720            2  \n",
       "1721            2  \n",
       "1722            2  \n",
       "\n",
       "[1723 rows x 3 columns]"
      ]
     },
     "execution_count": 5,
     "metadata": {},
     "output_type": "execute_result"
    }
   ],
   "source": [
    "dataset"
   ]
  },
  {
<<<<<<< HEAD
   "cell_type": "markdown",
   "id": "ed987b7e",
   "metadata": {},
   "source": [
    "## Split Data"
   ]
  },
  {
=======
>>>>>>> b2febc6d7b9199b00100a20f8a109065e0d361a5
   "cell_type": "code",
   "execution_count": 6,
   "id": "758517c2",
   "metadata": {},
   "outputs": [],
   "source": [
<<<<<<< HEAD
    "# Deklarasi X dengan values kolom Comment dan Y dengan values kolom Target_type\n",
    "X = dataset['Comment'].values\n",
    "y = dataset['Target_type'].values\n",
    "\n",
    "# mengambil 20% data untuk data train dan data test untuk evaluasi\n",
    "X_train, X_test, y_train, y_test = train_test_split(X, y,\n",
    "    test_size=0.2, shuffle = True, random_state = 8)\n",
    "\n",
    "# membuat data validation\n",
=======
    "X = dataset['Comment'].values\n",
    "y = dataset['Target_type'].values\n",
    "# set aside 20% of train and test data for evaluation\n",
    "X_train, X_test, y_train, y_test = train_test_split(X, y,\n",
    "    test_size=0.2, shuffle = True, random_state = 8)\n",
    "\n",
    "# Use the same function above for the validation set\n",
>>>>>>> b2febc6d7b9199b00100a20f8a109065e0d361a5
    "X_train, X_val, y_train, y_val = train_test_split(X_train, y_train, \n",
    "    test_size=0.25, random_state= 8)"
   ]
  },
  {
<<<<<<< HEAD
   "cell_type": "markdown",
   "id": "f5ab4a4d",
   "metadata": {},
   "source": [
    "### Melihat hasil split data"
   ]
  },
  {
=======
>>>>>>> b2febc6d7b9199b00100a20f8a109065e0d361a5
   "cell_type": "code",
   "execution_count": 7,
   "id": "5d3adfcd",
   "metadata": {},
   "outputs": [
    {
     "name": "stdout",
     "output_type": "stream",
     "text": [
      "Bentuk X_train = (1033,)\n",
      "Bentuk Y_train = (1033,)\n",
      "Bentuk X_val = (345,)\n",
      "Bentuk Y_val = (345,)\n",
      "Bentuk X_test = (345,)\n",
      "Bentuk Y_test = (345,)\n"
     ]
    }
   ],
   "source": [
    "print(f'Bentuk X_train = {X_train.shape}',\n",
    "      f'Bentuk Y_train = {y_train.shape}',\n",
    "      f'Bentuk X_val = {X_val.shape}',\n",
    "      f'Bentuk Y_val = {y_val.shape}',\n",
    "      f'Bentuk X_test = {X_test.shape}',\n",
    "      f'Bentuk Y_test = {y_test.shape}', sep=\"\\n\")"
   ]
  },
  {
<<<<<<< HEAD
   "cell_type": "markdown",
   "id": "8b99238b",
   "metadata": {},
   "source": [
    "## Encoding Words"
   ]
  },
  {
=======
>>>>>>> b2febc6d7b9199b00100a20f8a109065e0d361a5
   "cell_type": "code",
   "execution_count": 8,
   "id": "ca23044f",
   "metadata": {},
   "outputs": [],
   "source": [
<<<<<<< HEAD
    "# encoding menggunakan tokenizer\n",
    "\n",
    "NUM_WORDS = 1000\n",
    "\n",
    "tokenizer = Tokenizer(num_words=NUM_WORDS)\n",
=======
    "NUM_WORDS = 1000 #15000\n",
    "\n",
    "tokenizer = Tokenizer(num_words=NUM_WORDS)\n",
    "# tokenizer.fit_on_texts(X_train)\n",
>>>>>>> b2febc6d7b9199b00100a20f8a109065e0d361a5
    "word_index = tokenizer.fit_on_texts(X_train)"
   ]
  },
  {
   "cell_type": "code",
   "execution_count": 9,
   "id": "bf50850b",
   "metadata": {},
   "outputs": [
    {
     "data": {
      "text/plain": [
<<<<<<< HEAD
       "<keras.preprocessing.text.Tokenizer at 0x24e0d68ef80>"
=======
       "<keras.preprocessing.text.Tokenizer at 0x1c6e2e3dc90>"
>>>>>>> b2febc6d7b9199b00100a20f8a109065e0d361a5
      ]
     },
     "execution_count": 9,
     "metadata": {},
     "output_type": "execute_result"
    }
   ],
   "source": [
    "tokenizer"
   ]
  },
  {
<<<<<<< HEAD
   "cell_type": "markdown",
   "id": "7bf3e0e5",
   "metadata": {},
   "source": [
    "## Sequence"
   ]
  },
  {
=======
>>>>>>> b2febc6d7b9199b00100a20f8a109065e0d361a5
   "cell_type": "code",
   "execution_count": 10,
   "id": "023d2579",
   "metadata": {},
   "outputs": [],
   "source": [
    "x_train_token = tokenizer.texts_to_sequences(X_train)\n",
    "x_test_token = tokenizer.texts_to_sequences(X_test)\n",
    "x_val_token =tokenizer.texts_to_sequences(X_val)"
   ]
  },
  {
<<<<<<< HEAD
   "cell_type": "markdown",
   "id": "72b39ca9",
   "metadata": {},
   "source": [
    "## Padding"
   ]
  },
  {
=======
>>>>>>> b2febc6d7b9199b00100a20f8a109065e0d361a5
   "cell_type": "code",
   "execution_count": 11,
   "id": "f080f7b2",
   "metadata": {},
   "outputs": [],
   "source": [
<<<<<<< HEAD
    "# dengan maksimal panjang dimensi = 250\n",
=======
>>>>>>> b2febc6d7b9199b00100a20f8a109065e0d361a5
    "MAXLEN = 250\n",
    "\n",
    "x_train_padding = pad_sequences(x_train_token, maxlen=MAXLEN, padding='post', truncating='post')\n",
    "x_test_padding = pad_sequences(x_test_token, maxlen=MAXLEN, padding='post', truncating='post')\n",
    "x_valdding_padding = pad_sequences(x_val_token, maxlen=MAXLEN, padding='post', truncating='post')\n",
    "embeding_dim = 16"
   ]
  },
  {
   "cell_type": "code",
   "execution_count": 12,
   "id": "37e59dcd",
   "metadata": {},
   "outputs": [],
   "source": [
<<<<<<< HEAD
    "# mengubah model ke array\n",
=======
    "import numpy as np\n",
>>>>>>> b2febc6d7b9199b00100a20f8a109065e0d361a5
    "\n",
    "y_train = np.array(y_train)\n",
    "y_val = np.array(y_val)\n",
    "y_test = np.array(y_test)"
   ]
  },
  {
   "cell_type": "code",
   "execution_count": 13,
   "id": "bd05f450",
   "metadata": {},
   "outputs": [
    {
     "data": {
      "text/plain": [
       "array([1, 2, 1, ..., 0, 1, 0], dtype=int64)"
      ]
     },
     "execution_count": 13,
     "metadata": {},
     "output_type": "execute_result"
    }
   ],
   "source": [
    "y_train"
   ]
  },
  {
<<<<<<< HEAD
   "cell_type": "markdown",
   "id": "71b29e8e",
   "metadata": {},
   "source": [
    "## Modelling "
   ]
  },
  {
=======
>>>>>>> b2febc6d7b9199b00100a20f8a109065e0d361a5
   "cell_type": "code",
   "execution_count": 14,
   "id": "6709c783",
   "metadata": {},
   "outputs": [
    {
     "name": "stdout",
     "output_type": "stream",
     "text": [
      "Model: \"sequential\"\n",
      "_________________________________________________________________\n",
      " Layer (type)                Output Shape              Param #   \n",
      "=================================================================\n",
      " embedding (Embedding)       (None, 250, 20)           20000     \n",
      "                                                                 \n",
      " global_max_pooling1d (Globa  (None, 20)               0         \n",
      " lMaxPooling1D)                                                  \n",
      "                                                                 \n",
      " dense (Dense)               (None, 24)                504       \n",
      "                                                                 \n",
      " dense_1 (Dense)             (None, 3)                 75        \n",
      "                                                                 \n",
      "=================================================================\n",
      "Total params: 20,579\n",
      "Trainable params: 20,579\n",
      "Non-trainable params: 0\n",
      "_________________________________________________________________\n"
     ]
    }
   ],
   "source": [
    "model = tf.keras.Sequential([\n",
    "    Embedding(input_dim=NUM_WORDS, input_length=MAXLEN, output_dim=20),\n",
    "    tf.keras.layers.GlobalMaxPooling1D(),\n",
    "    tf.keras.layers.Dense(24, activation='relu'),\n",
    "    tf.keras.layers.Dense(3, activation='softmax')\n",
    "])\n",
    "\n",
    "model.summary()"
   ]
  },
  {
<<<<<<< HEAD
   "cell_type": "markdown",
   "id": "899a1779",
   "metadata": {},
   "source": [
    "## Early Stopping "
   ]
  },
  {
=======
>>>>>>> b2febc6d7b9199b00100a20f8a109065e0d361a5
   "cell_type": "code",
   "execution_count": 15,
   "id": "b3f1b150",
   "metadata": {},
   "outputs": [],
   "source": [
    "early_stopping = tf.keras.callbacks.EarlyStopping(\n",
    "    monitor='val_accuracy', \n",
    "    verbose=1,\n",
    "    patience=10,\n",
    "    mode='max',\n",
    "    restore_best_weights=True)"
   ]
  },
  {
<<<<<<< HEAD
   "cell_type": "markdown",
   "id": "fae6ae78",
   "metadata": {},
   "source": [
    "## Callbacks"
   ]
  },
  {
=======
>>>>>>> b2febc6d7b9199b00100a20f8a109065e0d361a5
   "cell_type": "code",
   "execution_count": 16,
   "id": "fa5d3cc3",
   "metadata": {},
   "outputs": [],
   "source": [
    "class MyCallback(tf.keras.callbacks.Callback):\n",
    "  def on_epoch_end(self, epoch, logs={}):\n",
<<<<<<< HEAD
    "    if(logs.get('accuracy')>= 0.95):\n",
=======
    "    if(logs.get('accuracy')>= 0.96):\n",
>>>>>>> b2febc6d7b9199b00100a20f8a109065e0d361a5
    "      print(\"\\nAkurasi validasi telah mencapai >95%!\")\n",
    "      self.model.stop_training = True\n",
    "callbacks = MyCallback()"
   ]
  },
  {
<<<<<<< HEAD
   "cell_type": "markdown",
   "id": "8613d14d",
   "metadata": {},
   "source": [
    "## Model Compile"
   ]
  },
  {
=======
>>>>>>> b2febc6d7b9199b00100a20f8a109065e0d361a5
   "cell_type": "code",
   "execution_count": 17,
   "id": "2b542055",
   "metadata": {},
   "outputs": [],
   "source": [
    "model.compile(optimizer=tf.keras.optimizers.Adam(),\n",
    "              loss='sparse_categorical_crossentropy',\n",
    "              metrics=['accuracy'])"
   ]
  },
  {
<<<<<<< HEAD
   "cell_type": "markdown",
   "id": "e123efe4",
   "metadata": {},
   "source": [
    "## Model Fitting"
   ]
  },
  {
   "cell_type": "code",
   "execution_count": 18,
   "id": "b502673a",
=======
   "cell_type": "code",
   "execution_count": 18,
   "id": "ea4f6c8b",
>>>>>>> b2febc6d7b9199b00100a20f8a109065e0d361a5
   "metadata": {},
   "outputs": [
    {
     "name": "stdout",
     "output_type": "stream",
     "text": [
      "Epoch 1/30\n",
<<<<<<< HEAD
      "33/33 [==============================] - 1s 12ms/step - loss: 1.0701 - accuracy: 0.4492 - val_loss: 1.0611 - val_accuracy: 0.4493\n",
      "Epoch 2/30\n",
      "33/33 [==============================] - 0s 5ms/step - loss: 1.0302 - accuracy: 0.4666 - val_loss: 1.0406 - val_accuracy: 0.4493\n",
      "Epoch 3/30\n",
      "33/33 [==============================] - 0s 5ms/step - loss: 0.9940 - accuracy: 0.4695 - val_loss: 1.0119 - val_accuracy: 0.4638\n",
      "Epoch 4/30\n",
      "33/33 [==============================] - 0s 5ms/step - loss: 0.9342 - accuracy: 0.6496 - val_loss: 0.9511 - val_accuracy: 0.6435\n",
      "Epoch 5/30\n",
      "33/33 [==============================] - 0s 5ms/step - loss: 0.8397 - accuracy: 0.7318 - val_loss: 0.8692 - val_accuracy: 0.6783\n",
      "Epoch 6/30\n",
      "33/33 [==============================] - 0s 5ms/step - loss: 0.7203 - accuracy: 0.7590 - val_loss: 0.7754 - val_accuracy: 0.6928\n",
      "Epoch 7/30\n",
      "33/33 [==============================] - 0s 5ms/step - loss: 0.6025 - accuracy: 0.7735 - val_loss: 0.6958 - val_accuracy: 0.7101\n",
      "Epoch 8/30\n",
      "33/33 [==============================] - 0s 5ms/step - loss: 0.5026 - accuracy: 0.8015 - val_loss: 0.6376 - val_accuracy: 0.7159\n",
      "Epoch 9/30\n",
      "33/33 [==============================] - 0s 5ms/step - loss: 0.4219 - accuracy: 0.8403 - val_loss: 0.5932 - val_accuracy: 0.7507\n",
      "Epoch 10/30\n",
      "33/33 [==============================] - 0s 5ms/step - loss: 0.3538 - accuracy: 0.8809 - val_loss: 0.5614 - val_accuracy: 0.7536\n",
      "Epoch 11/30\n",
      "33/33 [==============================] - 0s 5ms/step - loss: 0.2928 - accuracy: 0.9148 - val_loss: 0.5394 - val_accuracy: 0.7652\n",
      "Epoch 12/30\n",
      "33/33 [==============================] - 0s 5ms/step - loss: 0.2424 - accuracy: 0.9371 - val_loss: 0.5314 - val_accuracy: 0.7826\n",
      "Epoch 13/30\n",
      "33/33 [==============================] - 0s 5ms/step - loss: 0.2011 - accuracy: 0.9506 - val_loss: 0.5384 - val_accuracy: 0.7826\n",
      "Epoch 14/30\n",
      "33/33 [==============================] - 0s 5ms/step - loss: 0.1672 - accuracy: 0.9632 - val_loss: 0.5415 - val_accuracy: 0.7768\n",
      "Epoch 15/30\n",
      "33/33 [==============================] - 0s 5ms/step - loss: 0.1398 - accuracy: 0.9748 - val_loss: 0.5543 - val_accuracy: 0.7884\n",
      "Epoch 16/30\n",
      "33/33 [==============================] - 0s 5ms/step - loss: 0.1177 - accuracy: 0.9816 - val_loss: 0.5669 - val_accuracy: 0.7884\n",
      "Epoch 17/30\n",
      "33/33 [==============================] - 0s 5ms/step - loss: 0.0993 - accuracy: 0.9864 - val_loss: 0.5810 - val_accuracy: 0.7913\n",
      "Epoch 18/30\n",
      "33/33 [==============================] - 0s 5ms/step - loss: 0.0846 - accuracy: 0.9864 - val_loss: 0.5968 - val_accuracy: 0.7913\n",
      "Epoch 19/30\n",
      "33/33 [==============================] - 0s 5ms/step - loss: 0.0713 - accuracy: 0.9903 - val_loss: 0.6133 - val_accuracy: 0.7855\n",
      "Epoch 20/30\n",
      "33/33 [==============================] - 0s 5ms/step - loss: 0.0606 - accuracy: 0.9913 - val_loss: 0.6350 - val_accuracy: 0.7826\n",
      "Epoch 21/30\n",
      "33/33 [==============================] - 0s 5ms/step - loss: 0.0513 - accuracy: 0.9932 - val_loss: 0.6481 - val_accuracy: 0.7855\n",
      "Epoch 22/30\n",
      "33/33 [==============================] - 0s 5ms/step - loss: 0.0443 - accuracy: 0.9952 - val_loss: 0.6690 - val_accuracy: 0.7855\n",
      "Epoch 23/30\n",
      "33/33 [==============================] - 0s 5ms/step - loss: 0.0384 - accuracy: 0.9971 - val_loss: 0.6882 - val_accuracy: 0.7884\n",
      "Epoch 24/30\n",
      "33/33 [==============================] - 0s 5ms/step - loss: 0.0334 - accuracy: 0.9981 - val_loss: 0.7005 - val_accuracy: 0.7855\n",
      "Epoch 25/30\n",
      "33/33 [==============================] - 0s 5ms/step - loss: 0.0291 - accuracy: 0.9981 - val_loss: 0.7180 - val_accuracy: 0.7855\n",
      "Epoch 26/30\n",
      "33/33 [==============================] - 0s 5ms/step - loss: 0.0255 - accuracy: 0.9981 - val_loss: 0.7345 - val_accuracy: 0.7884\n",
      "Epoch 27/30\n",
      "16/33 [=============>................] - ETA: 0s - loss: 0.0219 - accuracy: 1.0000Restoring model weights from the end of the best epoch: 17.\n",
      "33/33 [==============================] - 0s 5ms/step - loss: 0.0229 - accuracy: 0.9981 - val_loss: 0.7493 - val_accuracy: 0.7913\n",
      "Epoch 27: early stopping\n"
=======
      "33/33 [==============================] - 3s 43ms/step - loss: 1.0694 - accuracy: 0.4637 - val_loss: 1.0612 - val_accuracy: 0.4493\n",
      "Epoch 2/30\n",
      "33/33 [==============================] - 1s 22ms/step - loss: 1.0335 - accuracy: 0.4666 - val_loss: 1.0375 - val_accuracy: 0.4493\n",
      "Epoch 3/30\n",
      "33/33 [==============================] - 1s 29ms/step - loss: 0.9929 - accuracy: 0.5237 - val_loss: 1.0056 - val_accuracy: 0.5217\n",
      "Epoch 4/30\n",
      "33/33 [==============================] - 1s 23ms/step - loss: 0.9320 - accuracy: 0.6225 - val_loss: 0.9553 - val_accuracy: 0.5942\n",
      "Epoch 5/30\n",
      "33/33 [==============================] - 1s 26ms/step - loss: 0.8408 - accuracy: 0.7241 - val_loss: 0.8826 - val_accuracy: 0.6609\n",
      "Epoch 6/30\n",
      "33/33 [==============================] - 1s 21ms/step - loss: 0.7287 - accuracy: 0.7551 - val_loss: 0.8042 - val_accuracy: 0.6696\n",
      "Epoch 7/30\n",
      "33/33 [==============================] - 1s 15ms/step - loss: 0.6243 - accuracy: 0.7638 - val_loss: 0.7411 - val_accuracy: 0.6812\n",
      "Epoch 8/30\n",
      "33/33 [==============================] - 1s 22ms/step - loss: 0.5352 - accuracy: 0.7832 - val_loss: 0.6891 - val_accuracy: 0.6928\n",
      "Epoch 9/30\n",
      "33/33 [==============================] - 1s 34ms/step - loss: 0.4624 - accuracy: 0.7957 - val_loss: 0.6499 - val_accuracy: 0.7014\n",
      "Epoch 10/30\n",
      "33/33 [==============================] - 1s 19ms/step - loss: 0.4018 - accuracy: 0.8412 - val_loss: 0.6172 - val_accuracy: 0.7275\n",
      "Epoch 11/30\n",
      "33/33 [==============================] - 1s 19ms/step - loss: 0.3471 - accuracy: 0.8780 - val_loss: 0.5998 - val_accuracy: 0.7333\n",
      "Epoch 12/30\n",
      "33/33 [==============================] - 1s 16ms/step - loss: 0.2979 - accuracy: 0.9197 - val_loss: 0.5842 - val_accuracy: 0.7478\n",
      "Epoch 13/30\n",
      "33/33 [==============================] - 1s 15ms/step - loss: 0.2543 - accuracy: 0.9371 - val_loss: 0.5796 - val_accuracy: 0.7304\n",
      "Epoch 14/30\n",
      "33/33 [==============================] - 1s 24ms/step - loss: 0.2188 - accuracy: 0.9439 - val_loss: 0.5798 - val_accuracy: 0.7536\n",
      "Epoch 15/30\n",
      "33/33 [==============================] - 1s 16ms/step - loss: 0.1865 - accuracy: 0.9593 - val_loss: 0.5841 - val_accuracy: 0.7478\n",
      "Epoch 16/30\n",
      "33/33 [==============================] - 0s 14ms/step - loss: 0.1593 - accuracy: 0.9632 - val_loss: 0.5930 - val_accuracy: 0.7536\n",
      "Epoch 17/30\n",
      "33/33 [==============================] - 1s 26ms/step - loss: 0.1367 - accuracy: 0.9748 - val_loss: 0.6037 - val_accuracy: 0.7565\n",
      "Epoch 18/30\n",
      "33/33 [==============================] - 1s 16ms/step - loss: 0.1169 - accuracy: 0.9816 - val_loss: 0.6133 - val_accuracy: 0.7507\n",
      "Epoch 19/30\n",
      "33/33 [==============================] - 0s 14ms/step - loss: 0.1003 - accuracy: 0.9855 - val_loss: 0.6248 - val_accuracy: 0.7507\n",
      "Epoch 20/30\n",
      "33/33 [==============================] - 1s 24ms/step - loss: 0.0862 - accuracy: 0.9874 - val_loss: 0.6392 - val_accuracy: 0.7507\n",
      "Epoch 21/30\n",
      "33/33 [==============================] - 1s 27ms/step - loss: 0.0746 - accuracy: 0.9903 - val_loss: 0.6528 - val_accuracy: 0.7565\n",
      "Epoch 22/30\n",
      "33/33 [==============================] - 1s 15ms/step - loss: 0.0629 - accuracy: 0.9932 - val_loss: 0.6649 - val_accuracy: 0.7507\n",
      "Epoch 23/30\n",
      "33/33 [==============================] - 1s 17ms/step - loss: 0.0541 - accuracy: 0.9942 - val_loss: 0.6775 - val_accuracy: 0.7536\n",
      "Epoch 24/30\n",
      "33/33 [==============================] - 1s 19ms/step - loss: 0.0468 - accuracy: 0.9952 - val_loss: 0.6955 - val_accuracy: 0.7536\n",
      "Epoch 25/30\n",
      "33/33 [==============================] - 1s 17ms/step - loss: 0.0406 - accuracy: 0.9952 - val_loss: 0.7106 - val_accuracy: 0.7565\n",
      "Epoch 26/30\n",
      "33/33 [==============================] - 1s 19ms/step - loss: 0.0356 - accuracy: 0.9981 - val_loss: 0.7203 - val_accuracy: 0.7594\n",
      "Epoch 27/30\n",
      "33/33 [==============================] - 1s 33ms/step - loss: 0.0309 - accuracy: 0.9971 - val_loss: 0.7383 - val_accuracy: 0.7536\n",
      "Epoch 28/30\n",
      "33/33 [==============================] - 1s 19ms/step - loss: 0.0273 - accuracy: 0.9981 - val_loss: 0.7534 - val_accuracy: 0.7536\n",
      "Epoch 29/30\n",
      "33/33 [==============================] - 1s 21ms/step - loss: 0.0240 - accuracy: 0.9981 - val_loss: 0.7681 - val_accuracy: 0.7594\n",
      "Epoch 30/30\n",
      "33/33 [==============================] - 1s 31ms/step - loss: 0.0216 - accuracy: 0.9981 - val_loss: 0.7803 - val_accuracy: 0.7565\n"
>>>>>>> b2febc6d7b9199b00100a20f8a109065e0d361a5
     ]
    }
   ],
   "source": [
    "EPOCHS = 30\n",
    "BATCH_SIZE = 32\n",
    "history = model.fit(x_train_padding,\n",
    "                    y_train,\n",
    "                    epochs=EPOCHS,\n",
    "                    batch_size=BATCH_SIZE,\n",
    "                    validation_data=(x_valdding_padding, y_val),\n",
    "                    verbose=1,\n",
    "                    callbacks = early_stopping)"
   ]
  },
  {
<<<<<<< HEAD
   "cell_type": "markdown",
   "id": "2ecdc26c",
   "metadata": {},
   "source": [
    "## Model Evaluate"
   ]
  },
  {
=======
>>>>>>> b2febc6d7b9199b00100a20f8a109065e0d361a5
   "cell_type": "code",
   "execution_count": 19,
   "id": "bcf0d492",
   "metadata": {},
   "outputs": [
    {
     "name": "stdout",
     "output_type": "stream",
     "text": [
<<<<<<< HEAD
      "11/11 [==============================] - 0s 2ms/step - loss: 0.5955 - accuracy: 0.7420\n"
=======
      "11/11 [==============================] - 0s 15ms/step - loss: 0.8381 - accuracy: 0.7507\n"
>>>>>>> b2febc6d7b9199b00100a20f8a109065e0d361a5
     ]
    },
    {
     "data": {
      "text/plain": [
<<<<<<< HEAD
       "[0.5955086350440979, 0.7420290112495422]"
=======
       "[0.8381303548812866, 0.7507246136665344]"
>>>>>>> b2febc6d7b9199b00100a20f8a109065e0d361a5
      ]
     },
     "execution_count": 19,
     "metadata": {},
     "output_type": "execute_result"
    }
   ],
   "source": [
    "model.evaluate(x_test_padding, y_test)"
   ]
  },
  {
<<<<<<< HEAD
   "cell_type": "markdown",
   "id": "f2077bb4",
   "metadata": {},
   "source": [
    "## Visualisasi Model"
   ]
  },
  {
=======
>>>>>>> b2febc6d7b9199b00100a20f8a109065e0d361a5
   "cell_type": "code",
   "execution_count": 20,
   "id": "c679bca0",
   "metadata": {},
   "outputs": [
    {
     "data": {
<<<<<<< HEAD
      "image/png": "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\n",
=======
      "image/png": "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\n",
>>>>>>> b2febc6d7b9199b00100a20f8a109065e0d361a5
      "text/plain": [
       "<Figure size 640x480 with 1 Axes>"
      ]
     },
     "metadata": {},
     "output_type": "display_data"
    },
    {
     "data": {
<<<<<<< HEAD
      "image/png": "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\n",
=======
      "image/png": "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\n",
>>>>>>> b2febc6d7b9199b00100a20f8a109065e0d361a5
      "text/plain": [
       "<Figure size 640x480 with 1 Axes>"
      ]
     },
     "metadata": {},
     "output_type": "display_data"
    }
   ],
   "source": [
    "acc = history.history['accuracy']\n",
    "val_acc = history.history['val_accuracy']\n",
    "loss = history.history['loss']\n",
    "val_loss = history.history['val_loss']\n",
    " \n",
    "epochs = range(len(acc))\n",
    " \n",
    "plt.plot(epochs, acc, 'b', label='Training acc')\n",
    "plt.plot(epochs, val_acc, 'r', label='Validation acc')\n",
    "plt.title('Training and validation accuracy')\n",
    "plt.legend()\n",
    " \n",
    "plt.figure()\n",
    " \n",
    "plt.plot(epochs, loss, 'b', label='Training loss')\n",
    "plt.plot(epochs, val_loss, 'r', label='Validation loss')\n",
    "plt.title('Training and validation loss')\n",
    "plt.legend()\n",
    " \n",
    "plt.show()"
   ]
  },
  {
<<<<<<< HEAD
   "cell_type": "markdown",
   "id": "203d4d05",
   "metadata": {},
   "source": [
    "## Menyimpan Model"
   ]
  },
  {
=======
>>>>>>> b2febc6d7b9199b00100a20f8a109065e0d361a5
   "cell_type": "code",
   "execution_count": 21,
   "id": "c3763a0d",
   "metadata": {},
   "outputs": [],
   "source": [
    "model.save('./model/model1.h5')"
   ]
  },
  {
<<<<<<< HEAD
   "cell_type": "code",
   "execution_count": 22,
   "id": "f80e1a55",
   "metadata": {},
   "outputs": [],
   "source": [
    "model = tf.keras.models.load_model('model/model1.h5')"
   ]
  },
  {
=======
>>>>>>> b2febc6d7b9199b00100a20f8a109065e0d361a5
   "cell_type": "markdown",
   "id": "8f1f21b7",
   "metadata": {},
   "source": [
    "# PREDICT"
   ]
  },
  {
<<<<<<< HEAD
   "cell_type": "markdown",
   "id": "6223b83c",
   "metadata": {},
   "source": [
    "#### Contoh hasil predict positive "
   ]
  },
  {
   "cell_type": "code",
   "execution_count": 23,
=======
   "cell_type": "code",
   "execution_count": 22,
>>>>>>> b2febc6d7b9199b00100a20f8a109065e0d361a5
   "id": "95035c26",
   "metadata": {},
   "outputs": [
    {
     "name": "stdout",
     "output_type": "stream",
     "text": [
<<<<<<< HEAD
      "Write Your Comment Bellow : this video very nice\n",
      "1/1 [==============================] - 0s 109ms/step\n",
      "Your Comment is : Positive (0.9702544212341309)\n"
=======
      "Write Your Comment Bellow : i love your song\n",
      "1/1 [==============================] - 0s 282ms/step\n",
      "Your Comment is : Positive (0.9973734617233276)\n"
>>>>>>> b2febc6d7b9199b00100a20f8a109065e0d361a5
     ]
    }
   ],
   "source": [
<<<<<<< HEAD
    "# memasukkan inputan comment yang akan di analisis\n",
    "\n",
    "text = input(\"Write Your Comment Bellow : \")\n",
    "# konversi huruf yang di masukkan menjadi angka\n",
    "predict_sentences = tokenizer.texts_to_sequences([text])\n",
    "# memasukkan angka hasil konversi ke dalam matriks\n",
    "predict_padded = pad_sequences(predict_sentences, maxlen=250)\n",
    "# deklarasi variabel untuk menampilkan nilai prediksi dari variabel predict_padded\n",
    "label = model.predict(predict_padded)[0][1]\n",
    "\n",
    "# membuat kondisi untuk 3 parameter label\n",
=======
    "text = input(\"Write Your Comment Bellow : \")\n",
    "predict_sentences = tokenizer.texts_to_sequences([text])\n",
    "predict_padded = pad_sequences(predict_sentences, maxlen=250)\n",
    "label = model.predict(predict_padded)[0][1]\n",
    "\n",
>>>>>>> b2febc6d7b9199b00100a20f8a109065e0d361a5
    "if label <= 0.4:\n",
    "    print(f\"Your Comment is : Negative ({label})\")\n",
    "elif label >= 0.7:\n",
    "    print(f\"Your Comment is : Positive ({label})\")\n",
    "elif label < 0.7 and label >= 0.5:\n",
    "    print(f\"Your Comment is : Neutral ({label})\")"
   ]
  },
  {
<<<<<<< HEAD
   "cell_type": "markdown",
   "id": "dae013f9",
   "metadata": {},
   "source": [
    "#### Contoh hasil predict negative"
   ]
  },
  {
   "cell_type": "code",
   "execution_count": 26,
   "id": "7df69f39",
   "metadata": {},
   "outputs": [
    {
     "name": "stdout",
     "output_type": "stream",
     "text": [
      "Write Your Comment Bellow : I don't like this video, so disgusting\n",
      "1/1 [==============================] - 0s 32ms/step\n",
      "Your Comment is : Negative (0.3016238212585449)\n"
     ]
    }
   ],
   "source": [
    "# memasukkan inputan comment yang akan di analisis\n",
    "\n",
    "text = input(\"Write Your Comment Bellow : \")\n",
    "# konversi huruf yang di masukkan menjadi angka\n",
    "predict_sentences = tokenizer.texts_to_sequences([text])\n",
    "# memasukkan angka hasil konversi ke dalam matriks\n",
    "predict_padded = pad_sequences(predict_sentences, maxlen=250)\n",
    "# deklarasi variabel untuk menampilkan nilai prediksi dari variabel predict_padded\n",
    "label = model.predict(predict_padded)[0][1]\n",
    "\n",
    "# membuat kondisi untuk 3 parameter label\n",
    "if label <= 0.4:\n",
    "    print(f\"Your Comment is : Negative ({label})\")\n",
    "elif label >= 0.7:\n",
    "    print(f\"Your Comment is : Positive ({label})\")\n",
    "elif label < 0.7 and label >= 0.5:\n",
    "    print(f\"Your Comment is : Neutral ({label})\")"
   ]
  },
  {
   "cell_type": "markdown",
   "id": "776e581f",
   "metadata": {},
   "source": [
    "#### Contoh hasil predict Neutral"
   ]
  },
  {
   "cell_type": "code",
   "execution_count": 39,
   "id": "569cb460",
   "metadata": {},
   "outputs": [
    {
     "name": "stdout",
     "output_type": "stream",
     "text": [
      "Write Your Comment Bellow : this video made me flat\n",
      "1/1 [==============================] - 0s 18ms/step\n",
      "Your Comment is : Neutral (0.5262197256088257)\n"
     ]
    }
   ],
   "source": [
    "# memasukkan inputan comment yang akan di analisis\n",
    "\n",
    "text = input(\"Write Your Comment Bellow : \")\n",
    "# konversi huruf yang di masukkan menjadi angka\n",
    "predict_sentences = tokenizer.texts_to_sequences([text])\n",
    "# memasukkan angka hasil konversi ke dalam matriks\n",
    "predict_padded = pad_sequences(predict_sentences, maxlen=250)\n",
    "# deklarasi variabel untuk menampilkan nilai prediksi dari variabel predict_padded\n",
    "label = model.predict(predict_padded)[0][1]\n",
    "\n",
    "# membuat kondisi untuk 3 parameter label\n",
    "if label <= 0.4:\n",
    "    print(f\"Your Comment is : Negative ({label})\")\n",
    "elif label >= 0.7:\n",
    "    print(f\"Your Comment is : Positive ({label})\")\n",
    "elif label < 0.7 and label >= 0.5:\n",
    "    print(f\"Your Comment is : Neutral ({label})\")"
   ]
=======
   "cell_type": "code",
   "execution_count": null,
   "id": "7df69f39",
   "metadata": {},
   "outputs": [],
   "source": []
>>>>>>> b2febc6d7b9199b00100a20f8a109065e0d361a5
  }
 ],
 "metadata": {
  "kernelspec": {
<<<<<<< HEAD
   "display_name": "Python 3 (ipykernel)",
   "language": "python",
   "name": "python3"
=======
   "display_name": "Krisdt_064",
   "language": "python",
   "name": "krisdt_064"
>>>>>>> b2febc6d7b9199b00100a20f8a109065e0d361a5
  },
  "language_info": {
   "codemirror_mode": {
    "name": "ipython",
    "version": 3
   },
   "file_extension": ".py",
   "mimetype": "text/x-python",
   "name": "python",
   "nbconvert_exporter": "python",
   "pygments_lexer": "ipython3",
   "version": "3.10.7"
  }
 },
 "nbformat": 4,
 "nbformat_minor": 5
}
