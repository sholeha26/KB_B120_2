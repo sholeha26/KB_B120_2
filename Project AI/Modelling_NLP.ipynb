{
 "cells": [
  {
   "cell_type": "markdown",
   "id": "bd3fcd16",
   "metadata": {},
   "source": [
    "# Modelling "
   ]
  },
  {
   "cell_type": "code",
   "execution_count": 1,
   "id": "b172b42d",
   "metadata": {},
   "outputs": [
    {
     "name": "stderr",
     "output_type": "stream",
     "text": [
      "C:\\Users\\ASUS\\OneDrive\\Dokumen\\Praktikum KB\\venv_B1-20\\Krisdt_064\\lib\\site-packages\\numpy\\_distributor_init.py:30: UserWarning: loaded more than 1 DLL from .libs:\n",
      "C:\\Users\\ASUS\\OneDrive\\Dokumen\\Praktikum KB\\venv_B1-20\\Krisdt_064\\lib\\site-packages\\numpy\\.libs\\libopenblas.FB5AE2TYXYH2IJRDKGDGQ3XBKLKTF43H.gfortran-win_amd64.dll\n",
      "C:\\Users\\ASUS\\OneDrive\\Dokumen\\Praktikum KB\\venv_B1-20\\Krisdt_064\\lib\\site-packages\\numpy\\.libs\\libopenblas.XWYDX2IKJW2NMTWSFYNGFUWKQU3LYTCZ.gfortran-win_amd64.dll\n",
      "  warnings.warn(\"loaded more than 1 DLL from .libs:\"\n"
     ]
    }
   ],
   "source": [
    "import pandas as pd\n",
    "# library for train test split\n",
    "from sklearn.model_selection import train_test_split\n",
    "import matplotlib.pyplot as plt\n",
    "\n",
    "# deep learning libraries for text pre-processing\n",
    "import tensorflow as tf\n",
    "from tensorflow.keras.preprocessing.text import Tokenizer\n",
    "from tensorflow.keras.preprocessing.sequence import pad_sequences\n",
    "\n",
    "# Modeling \n",
    "from tensorflow.keras.callbacks import EarlyStopping\n",
    "from tensorflow.keras import layers, models, regularizers,initializers\n",
    "from sklearn.model_selection import StratifiedKFold \n",
    "# from keras.preprocessing.text import Tokenizer\n",
    "# from keras.preprocessing.sequence import pad_sequences\n",
    "from keras.models import Sequential\n",
    "from keras.layers import LSTM, Dense, Embedding"
   ]
  },
  {
   "cell_type": "code",
   "execution_count": 2,
   "id": "4ce7ff51",
   "metadata": {},
   "outputs": [],
   "source": [
    "dataset = pd.read_csv('dataset_bersih.csv')"
   ]
  },
  {
   "cell_type": "code",
   "execution_count": 3,
   "id": "26444130",
   "metadata": {},
   "outputs": [
    {
     "data": {
      "text/html": [
       "<div>\n",
       "<style scoped>\n",
       "    .dataframe tbody tr th:only-of-type {\n",
       "        vertical-align: middle;\n",
       "    }\n",
       "\n",
       "    .dataframe tbody tr th {\n",
       "        vertical-align: top;\n",
       "    }\n",
       "\n",
       "    .dataframe thead th {\n",
       "        text-align: right;\n",
       "    }\n",
       "</style>\n",
       "<table border=\"1\" class=\"dataframe\">\n",
       "  <thead>\n",
       "    <tr style=\"text-align: right;\">\n",
       "      <th></th>\n",
       "      <th>Unnamed: 0</th>\n",
       "      <th>Comment</th>\n",
       "      <th>Category Comment</th>\n",
       "      <th>Target_type</th>\n",
       "    </tr>\n",
       "  </thead>\n",
       "  <tbody>\n",
       "    <tr>\n",
       "      <th>0</th>\n",
       "      <td>0</td>\n",
       "      <td>the people who liked this comment is officiall...</td>\n",
       "      <td>neutral</td>\n",
       "      <td>0</td>\n",
       "    </tr>\n",
       "    <tr>\n",
       "      <th>1</th>\n",
       "      <td>1</td>\n",
       "      <td>lets be honest this wasnt your recommendation ...</td>\n",
       "      <td>neutral</td>\n",
       "      <td>0</td>\n",
       "    </tr>\n",
       "    <tr>\n",
       "      <th>2</th>\n",
       "      <td>2</td>\n",
       "      <td>million comments if you find mine your legend</td>\n",
       "      <td>positive</td>\n",
       "      <td>1</td>\n",
       "    </tr>\n",
       "    <tr>\n",
       "      <th>3</th>\n",
       "      <td>3</td>\n",
       "      <td>the ones who are not from tik tok can like thi...</td>\n",
       "      <td>negative</td>\n",
       "      <td>2</td>\n",
       "    </tr>\n",
       "    <tr>\n",
       "      <th>4</th>\n",
       "      <td>4</td>\n",
       "      <td>the first viewer must feel like the king of th...</td>\n",
       "      <td>positive</td>\n",
       "      <td>1</td>\n",
       "    </tr>\n",
       "    <tr>\n",
       "      <th>...</th>\n",
       "      <td>...</td>\n",
       "      <td>...</td>\n",
       "      <td>...</td>\n",
       "      <td>...</td>\n",
       "    </tr>\n",
       "    <tr>\n",
       "      <th>1718</th>\n",
       "      <td>1718</td>\n",
       "      <td>never really liked this song but the meme like...</td>\n",
       "      <td>negative</td>\n",
       "      <td>2</td>\n",
       "    </tr>\n",
       "    <tr>\n",
       "      <th>1719</th>\n",
       "      <td>1719</td>\n",
       "      <td>no nudes no drugs no alcohol just some meme ma...</td>\n",
       "      <td>negative</td>\n",
       "      <td>2</td>\n",
       "    </tr>\n",
       "    <tr>\n",
       "      <th>1720</th>\n",
       "      <td>1720</td>\n",
       "      <td>this sounds so weird without the wii shop musi...</td>\n",
       "      <td>negative</td>\n",
       "      <td>2</td>\n",
       "    </tr>\n",
       "    <tr>\n",
       "      <th>1721</th>\n",
       "      <td>1721</td>\n",
       "      <td>if you mess with me like rohan once did youre ...</td>\n",
       "      <td>negative</td>\n",
       "      <td>2</td>\n",
       "    </tr>\n",
       "    <tr>\n",
       "      <th>1722</th>\n",
       "      <td>1722</td>\n",
       "      <td>hate people who misspell zayn as zyan</td>\n",
       "      <td>negative</td>\n",
       "      <td>2</td>\n",
       "    </tr>\n",
       "  </tbody>\n",
       "</table>\n",
       "<p>1723 rows × 4 columns</p>\n",
       "</div>"
      ],
      "text/plain": [
       "      Unnamed: 0                                            Comment  \\\n",
       "0              0  the people who liked this comment is officiall...   \n",
       "1              1  lets be honest this wasnt your recommendation ...   \n",
       "2              2      million comments if you find mine your legend   \n",
       "3              3  the ones who are not from tik tok can like thi...   \n",
       "4              4  the first viewer must feel like the king of th...   \n",
       "...          ...                                                ...   \n",
       "1718        1718  never really liked this song but the meme like...   \n",
       "1719        1719  no nudes no drugs no alcohol just some meme ma...   \n",
       "1720        1720  this sounds so weird without the wii shop musi...   \n",
       "1721        1721  if you mess with me like rohan once did youre ...   \n",
       "1722        1722              hate people who misspell zayn as zyan   \n",
       "\n",
       "     Category Comment  Target_type  \n",
       "0             neutral            0  \n",
       "1             neutral            0  \n",
       "2            positive            1  \n",
       "3            negative            2  \n",
       "4            positive            1  \n",
       "...               ...          ...  \n",
       "1718         negative            2  \n",
       "1719         negative            2  \n",
       "1720         negative            2  \n",
       "1721         negative            2  \n",
       "1722         negative            2  \n",
       "\n",
       "[1723 rows x 4 columns]"
      ]
     },
     "execution_count": 3,
     "metadata": {},
     "output_type": "execute_result"
    }
   ],
   "source": [
    "dataset"
   ]
  },
  {
   "cell_type": "code",
   "execution_count": 4,
   "id": "336f1633",
   "metadata": {},
   "outputs": [],
   "source": [
    "del dataset['Unnamed: 0']"
   ]
  },
  {
   "cell_type": "code",
   "execution_count": 5,
   "id": "51bd4ded",
   "metadata": {},
   "outputs": [
    {
     "data": {
      "text/html": [
       "<div>\n",
       "<style scoped>\n",
       "    .dataframe tbody tr th:only-of-type {\n",
       "        vertical-align: middle;\n",
       "    }\n",
       "\n",
       "    .dataframe tbody tr th {\n",
       "        vertical-align: top;\n",
       "    }\n",
       "\n",
       "    .dataframe thead th {\n",
       "        text-align: right;\n",
       "    }\n",
       "</style>\n",
       "<table border=\"1\" class=\"dataframe\">\n",
       "  <thead>\n",
       "    <tr style=\"text-align: right;\">\n",
       "      <th></th>\n",
       "      <th>Comment</th>\n",
       "      <th>Category Comment</th>\n",
       "      <th>Target_type</th>\n",
       "    </tr>\n",
       "  </thead>\n",
       "  <tbody>\n",
       "    <tr>\n",
       "      <th>0</th>\n",
       "      <td>the people who liked this comment is officiall...</td>\n",
       "      <td>neutral</td>\n",
       "      <td>0</td>\n",
       "    </tr>\n",
       "    <tr>\n",
       "      <th>1</th>\n",
       "      <td>lets be honest this wasnt your recommendation ...</td>\n",
       "      <td>neutral</td>\n",
       "      <td>0</td>\n",
       "    </tr>\n",
       "    <tr>\n",
       "      <th>2</th>\n",
       "      <td>million comments if you find mine your legend</td>\n",
       "      <td>positive</td>\n",
       "      <td>1</td>\n",
       "    </tr>\n",
       "    <tr>\n",
       "      <th>3</th>\n",
       "      <td>the ones who are not from tik tok can like thi...</td>\n",
       "      <td>negative</td>\n",
       "      <td>2</td>\n",
       "    </tr>\n",
       "    <tr>\n",
       "      <th>4</th>\n",
       "      <td>the first viewer must feel like the king of th...</td>\n",
       "      <td>positive</td>\n",
       "      <td>1</td>\n",
       "    </tr>\n",
       "    <tr>\n",
       "      <th>...</th>\n",
       "      <td>...</td>\n",
       "      <td>...</td>\n",
       "      <td>...</td>\n",
       "    </tr>\n",
       "    <tr>\n",
       "      <th>1718</th>\n",
       "      <td>never really liked this song but the meme like...</td>\n",
       "      <td>negative</td>\n",
       "      <td>2</td>\n",
       "    </tr>\n",
       "    <tr>\n",
       "      <th>1719</th>\n",
       "      <td>no nudes no drugs no alcohol just some meme ma...</td>\n",
       "      <td>negative</td>\n",
       "      <td>2</td>\n",
       "    </tr>\n",
       "    <tr>\n",
       "      <th>1720</th>\n",
       "      <td>this sounds so weird without the wii shop musi...</td>\n",
       "      <td>negative</td>\n",
       "      <td>2</td>\n",
       "    </tr>\n",
       "    <tr>\n",
       "      <th>1721</th>\n",
       "      <td>if you mess with me like rohan once did youre ...</td>\n",
       "      <td>negative</td>\n",
       "      <td>2</td>\n",
       "    </tr>\n",
       "    <tr>\n",
       "      <th>1722</th>\n",
       "      <td>hate people who misspell zayn as zyan</td>\n",
       "      <td>negative</td>\n",
       "      <td>2</td>\n",
       "    </tr>\n",
       "  </tbody>\n",
       "</table>\n",
       "<p>1723 rows × 3 columns</p>\n",
       "</div>"
      ],
      "text/plain": [
       "                                                Comment Category Comment  \\\n",
       "0     the people who liked this comment is officiall...          neutral   \n",
       "1     lets be honest this wasnt your recommendation ...          neutral   \n",
       "2         million comments if you find mine your legend         positive   \n",
       "3     the ones who are not from tik tok can like thi...         negative   \n",
       "4     the first viewer must feel like the king of th...         positive   \n",
       "...                                                 ...              ...   \n",
       "1718  never really liked this song but the meme like...         negative   \n",
       "1719  no nudes no drugs no alcohol just some meme ma...         negative   \n",
       "1720  this sounds so weird without the wii shop musi...         negative   \n",
       "1721  if you mess with me like rohan once did youre ...         negative   \n",
       "1722              hate people who misspell zayn as zyan         negative   \n",
       "\n",
       "      Target_type  \n",
       "0               0  \n",
       "1               0  \n",
       "2               1  \n",
       "3               2  \n",
       "4               1  \n",
       "...           ...  \n",
       "1718            2  \n",
       "1719            2  \n",
       "1720            2  \n",
       "1721            2  \n",
       "1722            2  \n",
       "\n",
       "[1723 rows x 3 columns]"
      ]
     },
     "execution_count": 5,
     "metadata": {},
     "output_type": "execute_result"
    }
   ],
   "source": [
    "dataset"
   ]
  },
  {
   "cell_type": "code",
   "execution_count": 6,
   "id": "758517c2",
   "metadata": {},
   "outputs": [],
   "source": [
    "X = dataset['Comment'].values\n",
    "y = dataset['Target_type'].values\n",
    "# set aside 20% of train and test data for evaluation\n",
    "X_train, X_test, y_train, y_test = train_test_split(X, y,\n",
    "    test_size=0.2, shuffle = True, random_state = 8)\n",
    "\n",
    "# Use the same function above for the validation set\n",
    "X_train, X_val, y_train, y_val = train_test_split(X_train, y_train, \n",
    "    test_size=0.25, random_state= 8)"
   ]
  },
  {
   "cell_type": "code",
   "execution_count": 7,
   "id": "5d3adfcd",
   "metadata": {},
   "outputs": [
    {
     "name": "stdout",
     "output_type": "stream",
     "text": [
      "Bentuk X_train = (1033,)\n",
      "Bentuk Y_train = (1033,)\n",
      "Bentuk X_val = (345,)\n",
      "Bentuk Y_val = (345,)\n",
      "Bentuk X_test = (345,)\n",
      "Bentuk Y_test = (345,)\n"
     ]
    }
   ],
   "source": [
    "print(f'Bentuk X_train = {X_train.shape}',\n",
    "      f'Bentuk Y_train = {y_train.shape}',\n",
    "      f'Bentuk X_val = {X_val.shape}',\n",
    "      f'Bentuk Y_val = {y_val.shape}',\n",
    "      f'Bentuk X_test = {X_test.shape}',\n",
    "      f'Bentuk Y_test = {y_test.shape}', sep=\"\\n\")"
   ]
  },
  {
   "cell_type": "code",
   "execution_count": 8,
   "id": "ca23044f",
   "metadata": {},
   "outputs": [],
   "source": [
    "NUM_WORDS = 1000 #15000\n",
    "\n",
    "tokenizer = Tokenizer(num_words=NUM_WORDS)\n",
    "# tokenizer.fit_on_texts(X_train)\n",
    "word_index = tokenizer.fit_on_texts(X_train)"
   ]
  },
  {
   "cell_type": "code",
   "execution_count": 9,
   "id": "bf50850b",
   "metadata": {},
   "outputs": [
    {
     "data": {
      "text/plain": [
       "<keras.preprocessing.text.Tokenizer at 0x1c6e2e3dc90>"
      ]
     },
     "execution_count": 9,
     "metadata": {},
     "output_type": "execute_result"
    }
   ],
   "source": [
    "tokenizer"
   ]
  },
  {
   "cell_type": "code",
   "execution_count": 10,
   "id": "023d2579",
   "metadata": {},
   "outputs": [],
   "source": [
    "x_train_token = tokenizer.texts_to_sequences(X_train)\n",
    "x_test_token = tokenizer.texts_to_sequences(X_test)\n",
    "x_val_token =tokenizer.texts_to_sequences(X_val)"
   ]
  },
  {
   "cell_type": "code",
   "execution_count": 11,
   "id": "f080f7b2",
   "metadata": {},
   "outputs": [],
   "source": [
    "MAXLEN = 250\n",
    "\n",
    "x_train_padding = pad_sequences(x_train_token, maxlen=MAXLEN, padding='post', truncating='post')\n",
    "x_test_padding = pad_sequences(x_test_token, maxlen=MAXLEN, padding='post', truncating='post')\n",
    "x_valdding_padding = pad_sequences(x_val_token, maxlen=MAXLEN, padding='post', truncating='post')\n",
    "embeding_dim = 16"
   ]
  },
  {
   "cell_type": "code",
   "execution_count": 12,
   "id": "37e59dcd",
   "metadata": {},
   "outputs": [],
   "source": [
    "import numpy as np\n",
    "\n",
    "y_train = np.array(y_train)\n",
    "y_val = np.array(y_val)\n",
    "y_test = np.array(y_test)"
   ]
  },
  {
   "cell_type": "code",
   "execution_count": 13,
   "id": "bd05f450",
   "metadata": {},
   "outputs": [
    {
     "data": {
      "text/plain": [
       "array([1, 2, 1, ..., 0, 1, 0], dtype=int64)"
      ]
     },
     "execution_count": 13,
     "metadata": {},
     "output_type": "execute_result"
    }
   ],
   "source": [
    "y_train"
   ]
  },
  {
   "cell_type": "code",
   "execution_count": 14,
   "id": "6709c783",
   "metadata": {},
   "outputs": [
    {
     "name": "stdout",
     "output_type": "stream",
     "text": [
      "Model: \"sequential\"\n",
      "_________________________________________________________________\n",
      " Layer (type)                Output Shape              Param #   \n",
      "=================================================================\n",
      " embedding (Embedding)       (None, 250, 20)           20000     \n",
      "                                                                 \n",
      " global_max_pooling1d (Globa  (None, 20)               0         \n",
      " lMaxPooling1D)                                                  \n",
      "                                                                 \n",
      " dense (Dense)               (None, 24)                504       \n",
      "                                                                 \n",
      " dense_1 (Dense)             (None, 3)                 75        \n",
      "                                                                 \n",
      "=================================================================\n",
      "Total params: 20,579\n",
      "Trainable params: 20,579\n",
      "Non-trainable params: 0\n",
      "_________________________________________________________________\n"
     ]
    }
   ],
   "source": [
    "model = tf.keras.Sequential([\n",
    "    Embedding(input_dim=NUM_WORDS, input_length=MAXLEN, output_dim=20),\n",
    "    tf.keras.layers.GlobalMaxPooling1D(),\n",
    "    tf.keras.layers.Dense(24, activation='relu'),\n",
    "    tf.keras.layers.Dense(3, activation='softmax')\n",
    "])\n",
    "\n",
    "model.summary()"
   ]
  },
  {
   "cell_type": "code",
   "execution_count": 15,
   "id": "b3f1b150",
   "metadata": {},
   "outputs": [],
   "source": [
    "early_stopping = tf.keras.callbacks.EarlyStopping(\n",
    "    monitor='val_accuracy', \n",
    "    verbose=1,\n",
    "    patience=10,\n",
    "    mode='max',\n",
    "    restore_best_weights=True)"
   ]
  },
  {
   "cell_type": "code",
   "execution_count": 16,
   "id": "fa5d3cc3",
   "metadata": {},
   "outputs": [],
   "source": [
    "class MyCallback(tf.keras.callbacks.Callback):\n",
    "  def on_epoch_end(self, epoch, logs={}):\n",
    "    if(logs.get('accuracy')>= 0.96):\n",
    "      print(\"\\nAkurasi validasi telah mencapai >95%!\")\n",
    "      self.model.stop_training = True\n",
    "callbacks = MyCallback()"
   ]
  },
  {
   "cell_type": "code",
   "execution_count": 17,
   "id": "2b542055",
   "metadata": {},
   "outputs": [],
   "source": [
    "model.compile(optimizer=tf.keras.optimizers.Adam(),\n",
    "              loss='sparse_categorical_crossentropy',\n",
    "              metrics=['accuracy'])"
   ]
  },
  {
   "cell_type": "code",
   "execution_count": 18,
   "id": "ea4f6c8b",
   "metadata": {},
   "outputs": [
    {
     "name": "stdout",
     "output_type": "stream",
     "text": [
      "Epoch 1/30\n",
      "33/33 [==============================] - 3s 43ms/step - loss: 1.0694 - accuracy: 0.4637 - val_loss: 1.0612 - val_accuracy: 0.4493\n",
      "Epoch 2/30\n",
      "33/33 [==============================] - 1s 22ms/step - loss: 1.0335 - accuracy: 0.4666 - val_loss: 1.0375 - val_accuracy: 0.4493\n",
      "Epoch 3/30\n",
      "33/33 [==============================] - 1s 29ms/step - loss: 0.9929 - accuracy: 0.5237 - val_loss: 1.0056 - val_accuracy: 0.5217\n",
      "Epoch 4/30\n",
      "33/33 [==============================] - 1s 23ms/step - loss: 0.9320 - accuracy: 0.6225 - val_loss: 0.9553 - val_accuracy: 0.5942\n",
      "Epoch 5/30\n",
      "33/33 [==============================] - 1s 26ms/step - loss: 0.8408 - accuracy: 0.7241 - val_loss: 0.8826 - val_accuracy: 0.6609\n",
      "Epoch 6/30\n",
      "33/33 [==============================] - 1s 21ms/step - loss: 0.7287 - accuracy: 0.7551 - val_loss: 0.8042 - val_accuracy: 0.6696\n",
      "Epoch 7/30\n",
      "33/33 [==============================] - 1s 15ms/step - loss: 0.6243 - accuracy: 0.7638 - val_loss: 0.7411 - val_accuracy: 0.6812\n",
      "Epoch 8/30\n",
      "33/33 [==============================] - 1s 22ms/step - loss: 0.5352 - accuracy: 0.7832 - val_loss: 0.6891 - val_accuracy: 0.6928\n",
      "Epoch 9/30\n",
      "33/33 [==============================] - 1s 34ms/step - loss: 0.4624 - accuracy: 0.7957 - val_loss: 0.6499 - val_accuracy: 0.7014\n",
      "Epoch 10/30\n",
      "33/33 [==============================] - 1s 19ms/step - loss: 0.4018 - accuracy: 0.8412 - val_loss: 0.6172 - val_accuracy: 0.7275\n",
      "Epoch 11/30\n",
      "33/33 [==============================] - 1s 19ms/step - loss: 0.3471 - accuracy: 0.8780 - val_loss: 0.5998 - val_accuracy: 0.7333\n",
      "Epoch 12/30\n",
      "33/33 [==============================] - 1s 16ms/step - loss: 0.2979 - accuracy: 0.9197 - val_loss: 0.5842 - val_accuracy: 0.7478\n",
      "Epoch 13/30\n",
      "33/33 [==============================] - 1s 15ms/step - loss: 0.2543 - accuracy: 0.9371 - val_loss: 0.5796 - val_accuracy: 0.7304\n",
      "Epoch 14/30\n",
      "33/33 [==============================] - 1s 24ms/step - loss: 0.2188 - accuracy: 0.9439 - val_loss: 0.5798 - val_accuracy: 0.7536\n",
      "Epoch 15/30\n",
      "33/33 [==============================] - 1s 16ms/step - loss: 0.1865 - accuracy: 0.9593 - val_loss: 0.5841 - val_accuracy: 0.7478\n",
      "Epoch 16/30\n",
      "33/33 [==============================] - 0s 14ms/step - loss: 0.1593 - accuracy: 0.9632 - val_loss: 0.5930 - val_accuracy: 0.7536\n",
      "Epoch 17/30\n",
      "33/33 [==============================] - 1s 26ms/step - loss: 0.1367 - accuracy: 0.9748 - val_loss: 0.6037 - val_accuracy: 0.7565\n",
      "Epoch 18/30\n",
      "33/33 [==============================] - 1s 16ms/step - loss: 0.1169 - accuracy: 0.9816 - val_loss: 0.6133 - val_accuracy: 0.7507\n",
      "Epoch 19/30\n",
      "33/33 [==============================] - 0s 14ms/step - loss: 0.1003 - accuracy: 0.9855 - val_loss: 0.6248 - val_accuracy: 0.7507\n",
      "Epoch 20/30\n",
      "33/33 [==============================] - 1s 24ms/step - loss: 0.0862 - accuracy: 0.9874 - val_loss: 0.6392 - val_accuracy: 0.7507\n",
      "Epoch 21/30\n",
      "33/33 [==============================] - 1s 27ms/step - loss: 0.0746 - accuracy: 0.9903 - val_loss: 0.6528 - val_accuracy: 0.7565\n",
      "Epoch 22/30\n",
      "33/33 [==============================] - 1s 15ms/step - loss: 0.0629 - accuracy: 0.9932 - val_loss: 0.6649 - val_accuracy: 0.7507\n",
      "Epoch 23/30\n",
      "33/33 [==============================] - 1s 17ms/step - loss: 0.0541 - accuracy: 0.9942 - val_loss: 0.6775 - val_accuracy: 0.7536\n",
      "Epoch 24/30\n",
      "33/33 [==============================] - 1s 19ms/step - loss: 0.0468 - accuracy: 0.9952 - val_loss: 0.6955 - val_accuracy: 0.7536\n",
      "Epoch 25/30\n",
      "33/33 [==============================] - 1s 17ms/step - loss: 0.0406 - accuracy: 0.9952 - val_loss: 0.7106 - val_accuracy: 0.7565\n",
      "Epoch 26/30\n",
      "33/33 [==============================] - 1s 19ms/step - loss: 0.0356 - accuracy: 0.9981 - val_loss: 0.7203 - val_accuracy: 0.7594\n",
      "Epoch 27/30\n",
      "33/33 [==============================] - 1s 33ms/step - loss: 0.0309 - accuracy: 0.9971 - val_loss: 0.7383 - val_accuracy: 0.7536\n",
      "Epoch 28/30\n",
      "33/33 [==============================] - 1s 19ms/step - loss: 0.0273 - accuracy: 0.9981 - val_loss: 0.7534 - val_accuracy: 0.7536\n",
      "Epoch 29/30\n",
      "33/33 [==============================] - 1s 21ms/step - loss: 0.0240 - accuracy: 0.9981 - val_loss: 0.7681 - val_accuracy: 0.7594\n",
      "Epoch 30/30\n",
      "33/33 [==============================] - 1s 31ms/step - loss: 0.0216 - accuracy: 0.9981 - val_loss: 0.7803 - val_accuracy: 0.7565\n"
     ]
    }
   ],
   "source": [
    "EPOCHS = 30\n",
    "BATCH_SIZE = 32\n",
    "history = model.fit(x_train_padding,\n",
    "                    y_train,\n",
    "                    epochs=EPOCHS,\n",
    "                    batch_size=BATCH_SIZE,\n",
    "                    validation_data=(x_valdding_padding, y_val),\n",
    "                    verbose=1,\n",
    "                    callbacks = early_stopping)"
   ]
  },
  {
   "cell_type": "code",
   "execution_count": 19,
   "id": "bcf0d492",
   "metadata": {},
   "outputs": [
    {
     "name": "stdout",
     "output_type": "stream",
     "text": [
      "11/11 [==============================] - 0s 15ms/step - loss: 0.8381 - accuracy: 0.7507\n"
     ]
    },
    {
     "data": {
      "text/plain": [
       "[0.8381303548812866, 0.7507246136665344]"
      ]
     },
     "execution_count": 19,
     "metadata": {},
     "output_type": "execute_result"
    }
   ],
   "source": [
    "model.evaluate(x_test_padding, y_test)"
   ]
  },
  {
   "cell_type": "code",
   "execution_count": 20,
   "id": "c679bca0",
   "metadata": {},
   "outputs": [
    {
     "data": {
      "image/png": "[encoded data removed]",
      "text/plain": [
       "<Figure size 640x480 with 1 Axes>"
      ]
     },
     "metadata": {},
     "output_type": "display_data"
    },
    {
     "data": {
      "image/png": "[encoded data removed]",
      "text/plain": [
       "<Figure size 640x480 with 1 Axes>"
      ]
     },
     "metadata": {},
     "output_type": "display_data"
    }
   ],
   "source": [
    "acc = history.history['accuracy']\n",
    "val_acc = history.history['val_accuracy']\n",
    "loss = history.history['loss']\n",
    "val_loss = history.history['val_loss']\n",
    " \n",
    "epochs = range(len(acc))\n",
    " \n",
    "plt.plot(epochs, acc, 'b', label='Training acc')\n",
    "plt.plot(epochs, val_acc, 'r', label='Validation acc')\n",
    "plt.title('Training and validation accuracy')\n",
    "plt.legend()\n",
    " \n",
    "plt.figure()\n",
    " \n",
    "plt.plot(epochs, loss, 'b', label='Training loss')\n",
    "plt.plot(epochs, val_loss, 'r', label='Validation loss')\n",
    "plt.title('Training and validation loss')\n",
    "plt.legend()\n",
    " \n",
    "plt.show()"
   ]
  },
  {
   "cell_type": "code",
   "execution_count": 21,
   "id": "c3763a0d",
   "metadata": {},
   "outputs": [],
   "source": [
    "model.save('./model/model1.h5')"
   ]
  },
  {
   "cell_type": "markdown",
   "id": "8f1f21b7",
   "metadata": {},
   "source": [
    "# PREDICT"
   ]
  },
  {
   "cell_type": "code",
   "execution_count": 22,
   "id": "95035c26",
   "metadata": {},
   "outputs": [
    {
     "name": "stdout",
     "output_type": "stream",
     "text": [
      "Write Your Comment Bellow : i love your song\n",
      "1/1 [==============================] - 0s 282ms/step\n",
      "Your Comment is : Positive (0.9973734617233276)\n"
     ]
    }
   ],
   "source": [
    "text = input(\"Write Your Comment Bellow : \")\n",
    "predict_sentences = tokenizer.texts_to_sequences([text])\n",
    "predict_padded = pad_sequences(predict_sentences, maxlen=250)\n",
    "label = model.predict(predict_padded)[0][1]\n",
    "\n",
    "if label <= 0.4:\n",
    "    print(f\"Your Comment is : Negative ({label})\")\n",
    "elif label >= 0.7:\n",
    "    print(f\"Your Comment is : Positive ({label})\")\n",
    "elif label < 0.7 and label >= 0.5:\n",
    "    print(f\"Your Comment is : Neutral ({label})\")"
   ]
  },
  {
   "cell_type": "code",
   "execution_count": null,
   "id": "7df69f39",
   "metadata": {},
   "outputs": [],
   "source": []
  }
 ],
 "metadata": {
  "kernelspec": {
   "display_name": "Krisdt_064",
   "language": "python",
   "name": "krisdt_064"
  },
  "language_info": {
   "codemirror_mode": {
    "name": "ipython",
    "version": 3
   },
   "file_extension": ".py",
   "mimetype": "text/x-python",
   "name": "python",
   "nbconvert_exporter": "python",
   "pygments_lexer": "ipython3",
   "version": "3.10.7"
  }
 },
 "nbformat": 4,
 "nbformat_minor": 5
}
